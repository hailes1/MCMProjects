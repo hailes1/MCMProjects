{
  "nbformat": 4,
  "nbformat_minor": 0,
  "metadata": {
    "colab": {
      "name": "Magic Squares Assignment - Dag",
      "provenance": [],
      "collapsed_sections": [],
      "include_colab_link": true
    },
    "kernelspec": {
      "name": "python3",
      "display_name": "Python 3"
    },
    "language_info": {
      "name": "python"
    }
  },
  "cells": [
    {
      "cell_type": "markdown",
      "metadata": {
        "id": "view-in-github",
        "colab_type": "text"
      },
      "source": [
        "<a href=\"https://colab.research.google.com/github/hailes1/MCMProjects/blob/main/Magic_Squares_Assignment_Dag.ipynb\" target=\"_parent\"><img src=\"https://colab.research.google.com/assets/colab-badge.svg\" alt=\"Open In Colab\"/></a>"
      ]
    },
    {
      "cell_type": "markdown",
      "metadata": {
        "id": "es6BH_2diFZa"
      },
      "source": [
        "# Magic Squares Assignment\n",
        "\n",
        "Math 242 Modern Computational Mathematics\n",
        "\n",
        "A $n \\times n$ **magic square** is an arrangement of the numbers $1, 2, \\ldots, n^2$ in a $n \\times n$ grid in such a way that all of the rows, columns, and diagonals have the same sum. \n",
        "Here is an example of a $3 \\times 3$ magic square:\n",
        "\n",
        "$$\\begin{array}{|c|c|c|}\n",
        " \\hline\n",
        " 4 & 9 & 2\\\\\n",
        " \\hline\n",
        " 3 & 5 & 7\\\\\n",
        " \\hline\n",
        " 8 & 1 & 6\\\\\n",
        " \\hline\n",
        " \\end{array} $$\n",
        "\n",
        "Specifically, there are $n$ rows, $n$ columns, and $2$ diagonals, each of which adds up to $\\frac{1}{2}n(n^2+1)$. \n",
        "\n",
        "\n",
        "## Your Task\n",
        "\n",
        "Use simulated annealing to find magic squares for at $n=3$ and $n=4$. (You may find larger magic squares if you like!) To do this, you must first convert the problem of finding a magic square to the problem of minimizing a function $f : \\Omega \\to \\mathbb{R}$.\n",
        "\n",
        "For each value of $n$, answer the following questions:\n",
        "\n",
        "1. What values of `k` and `decFac` do you find to work best?\n",
        "2. Using your preferred choice of `k` and `decFac`, what is the average number of steps required to find a magic square?\n",
        "3. How does the value of your function $f$ change during the simulated annealing process? Make a plot that shows this clearly.\n",
        "\n",
        "This is an *assignment*, not a *project*. The important thing is to write code that works and answer the three questions above for $n=3$ and $n=4$."
      ]
    },
    {
      "cell_type": "code",
      "metadata": {
        "id": "7kHpRBvHtw7H"
      },
      "source": [
        "import math\n",
        "import random\n",
        "import numpy as np\n",
        "from numpy.random import default_rng\n",
        "import matplotlib.pyplot as plt"
      ],
      "execution_count": null,
      "outputs": []
    },
    {
      "cell_type": "code",
      "metadata": {
        "colab": {
          "base_uri": "https://localhost:8080/"
        },
        "id": "mzZ8SvyVwivJ",
        "outputId": "48305434-7416-4194-94f3-a08b59d89992"
      },
      "source": [
        "n = 3\n",
        "rng = default_rng()\n",
        "rng.choice(range(1,n**2+1), (n,n), replace = False)"
      ],
      "execution_count": null,
      "outputs": [
        {
          "output_type": "execute_result",
          "data": {
            "text/plain": [
              "array([[7, 3, 8],\n",
              "       [2, 1, 5],\n",
              "       [9, 6, 4]])"
            ]
          },
          "metadata": {
            "tags": []
          },
          "execution_count": 190
        }
      ]
    },
    {
      "cell_type": "markdown",
      "metadata": {
        "id": "UU2MrE766iAR"
      },
      "source": [
        "# Simulated annealing to find magic squares for at  n=3"
      ]
    },
    {
      "cell_type": "code",
      "metadata": {
        "id": "i4IfO8_ViCtU"
      },
      "source": [
        "def randomMatrix(n): \n",
        "  matrix = rng.choice(range(1,(n**2)+1),(n,n), replace= False)\n",
        "  return matrix"
      ],
      "execution_count": null,
      "outputs": []
    },
    {
      "cell_type": "code",
      "metadata": {
        "id": "fyCP7t6Mt4SE",
        "colab": {
          "base_uri": "https://localhost:8080/"
        },
        "outputId": "4b722afb-06e7-46f6-bb3a-6d05ec79d9e7"
      },
      "source": [
        "matrix = randomMatrix(3)\n",
        "print(matrix)"
      ],
      "execution_count": null,
      "outputs": [
        {
          "output_type": "stream",
          "text": [
            "[[4 9 8]\n",
            " [3 5 1]\n",
            " [6 7 2]]\n"
          ],
          "name": "stdout"
        }
      ]
    },
    {
      "cell_type": "code",
      "metadata": {
        "id": "gn4Fkjd0yVn-"
      },
      "source": [
        "# function to propose a move on the domain\n",
        "def proposeMove(currState, n):\n",
        "  propState = currState.copy()   \n",
        "  #print(currState)\n",
        "  i1 = random.randrange(0,n)\n",
        "  i2 = random.randrange(0,n)\n",
        "  j1 = random.randrange(0,n)\n",
        "  j2 = random.randrange(0,n)\n",
        "\n",
        "  if i1 == i2 and j1 == j2: \n",
        "    i1 = random.randrange(0,n)\n",
        "    i2 = random.randrange(0,n)\n",
        "    j1 = random.randrange(0,n)\n",
        "    j2 = random.randrange(0,n) \n",
        "\n",
        "  temp = propState[i1,j1]\n",
        "  propState[i1,j1] = propState[(i2),(j2)]\n",
        "  propState[(i2),(j2)] = temp\n",
        "\n",
        "  return propState \n",
        "\n",
        "\n"
      ],
      "execution_count": null,
      "outputs": []
    },
    {
      "cell_type": "code",
      "metadata": {
        "colab": {
          "base_uri": "https://localhost:8080/"
        },
        "id": "z_DNA35SzazM",
        "outputId": "85ddd9c3-6e48-4e0f-9f81-fbba25a7a3d7"
      },
      "source": [
        "proposeMove(currstate, 3)"
      ],
      "execution_count": null,
      "outputs": [
        {
          "output_type": "execute_result",
          "data": {
            "text/plain": [
              "array([[4, 3, 5],\n",
              "       [2, 8, 9],\n",
              "       [1, 6, 7]])"
            ]
          },
          "metadata": {
            "tags": []
          },
          "execution_count": 198
        }
      ]
    },
    {
      "cell_type": "code",
      "metadata": {
        "id": "6Ho66lGTzf0W"
      },
      "source": [
        "def f(state):\n",
        "  #print(state)\n",
        "  rowsums = np.sum(state, axis = 1)\n",
        "  colsums = np.sum(state, axis = 0)\n",
        "  diagsum1 = np.trace(state)\n",
        "  diagsum2 = np.trace(np.flip(state, axis = 1))\n",
        "  totalsums = np.concatenate((rowsums, colsums, [diagsum1], [diagsum2]))\n",
        "  difference = np.abs(15 - totalsums)\n",
        "  #print(absdifference)\n",
        "  return np.max(difference)"
      ],
      "execution_count": null,
      "outputs": []
    },
    {
      "cell_type": "code",
      "metadata": {
        "id": "ay8RsrlG1lRY"
      },
      "source": [
        "# function to make a move, deciding whether or not to accept the proposed move\n",
        "def doMove(currState, k, n):\n",
        "  # propose a move\n",
        "  propState = proposeMove(currState, n)\n",
        "\n",
        "  # compute the function value difference\n",
        "  df = f(propState) - f(currState)\n",
        "\n",
        "  # if df < 0, then make the move\n",
        "  if df < 0:\n",
        "    return propState\n",
        "  \n",
        "  # if df > 0, then make the move with probability rho\n",
        "  rho = math.exp(-df/k)\n",
        "  rand = random.random()   # random number between 0 and 1\n",
        "  if rand < rho: # then move\n",
        "    return propState\n",
        "  # else: don't move\n",
        "  return currState"
      ],
      "execution_count": null,
      "outputs": []
    },
    {
      "cell_type": "code",
      "metadata": {
        "id": "PDPtX_b81pS2",
        "colab": {
          "base_uri": "https://localhost:8080/",
          "height": 453
        },
        "outputId": "64137911-f022-41d5-c713-eaf05da758de"
      },
      "source": [
        "# simulate the random walk\n",
        "numSteps = 500\n",
        "k = 1\n",
        "decFac = 0.95  # decrease factor\n",
        "\n",
        "state = randomMatrix(3)\n",
        "\n",
        "print(\"starting state:\", state)\n",
        "print(\"starting f(state):\", f(state))\n",
        "\n",
        "fvals = [f(state)] # keep track of function values \n",
        "for i in range(numSteps):\n",
        "  # make a move\n",
        "  state = doMove(state, k, 3)\n",
        "  fvals.append(f(state))\n",
        "\n",
        "  # decrease k a little bit\n",
        "  k = k*decFac\n",
        "\n",
        "print(\"ending state:\", state)\n",
        "print(\"ending f(state):\", f(state))\n",
        "print(\"k:\", k)\n",
        "\n",
        "plt.plot(fvals)\n",
        "plt.xlabel(\"number of steps\")\n",
        "plt.ylabel;(\"function value\")"
      ],
      "execution_count": null,
      "outputs": [
        {
          "output_type": "stream",
          "text": [
            "starting state: [[5 6 2]\n",
            " [4 7 3]\n",
            " [9 8 1]]\n",
            "starting f(state): 9\n",
            "ending state: [[6 7 2]\n",
            " [1 5 9]\n",
            " [8 3 4]]\n",
            "ending f(state): 0\n",
            "k: 7.274491561439039e-12\n"
          ],
          "name": "stdout"
        },
        {
          "output_type": "execute_result",
          "data": {
            "application/vnd.google.colaboratory.intrinsic+json": {
              "type": "string"
            },
            "text/plain": [
              "'function value'"
            ]
          },
          "metadata": {
            "tags": []
          },
          "execution_count": 213
        },
        {
          "output_type": "display_data",
          "data": {
            "image/png": "[encoded data removed]",
            "text/plain": [
              "<Figure size 432x288 with 1 Axes>"
            ]
          },
          "metadata": {
            "tags": [],
            "needs_background": "light"
          }
        }
      ]
    },
    {
      "cell_type": "markdown",
      "metadata": {
        "id": "FsyE-vq06Vwk"
      },
      "source": [
        "# simulated annealing to find magic squares for at  n=4"
      ]
    },
    {
      "cell_type": "code",
      "metadata": {
        "id": "XgzQrM0s2Lps"
      },
      "source": [
        "def randomMatrix(n): \n",
        "  matrix = rng.choice(range(1,(n**2)+1),(n,n), replace= False)\n",
        "  return matrix"
      ],
      "execution_count": null,
      "outputs": []
    },
    {
      "cell_type": "code",
      "metadata": {
        "id": "ALZh4haV107_"
      },
      "source": [
        "# function to propose a move on the domain\n",
        "def proposeMove(currState, n):\n",
        "  propState2 = currState.copy()   \n",
        "  #print(currState)\n",
        "  i1 = random.randrange(0,n)\n",
        "  i2 = random.randrange(0,n)\n",
        "  j1 = random.randrange(0,n)\n",
        "  j2 = random.randrange(0,n)\n",
        "\n",
        "  if i1 == i2 and j1 == j2: \n",
        "    i1 = random.randrange(0,n)\n",
        "    i2 = random.randrange(0,n)\n",
        "    j1 = random.randrange(0,n)\n",
        "    j2 = random.randrange(0,n) \n",
        "\n",
        "  temp = propState2[i1,j1]\n",
        "  propState2[i1,j1] = propState2[(i2),(j2)]\n",
        "  propState2[(i2),(j2)] = temp\n",
        "\n",
        "  return propState2 \n",
        "\n",
        "\n"
      ],
      "execution_count": null,
      "outputs": []
    },
    {
      "cell_type": "code",
      "metadata": {
        "colab": {
          "base_uri": "https://localhost:8080/"
        },
        "id": "__ng5iBb143q",
        "outputId": "7e9af73f-1683-45a0-ae9a-23cfe0474ad3"
      },
      "source": [
        "currstate = randomMatrix(4)\n",
        "proposeMove(currstate, 4)"
      ],
      "execution_count": null,
      "outputs": [
        {
          "output_type": "stream",
          "text": [
            "[[ 8 11  9 16]\n",
            " [ 5  4 13  6]\n",
            " [15 12 14  2]\n",
            " [ 7  3 10  1]]\n"
          ],
          "name": "stdout"
        },
        {
          "output_type": "execute_result",
          "data": {
            "text/plain": [
              "array([[ 8,  1,  9, 16],\n",
              "       [ 5,  4, 13,  6],\n",
              "       [15, 12, 14,  2],\n",
              "       [ 7,  3, 10, 11]])"
            ]
          },
          "metadata": {
            "tags": []
          },
          "execution_count": 238
        }
      ]
    },
    {
      "cell_type": "code",
      "metadata": {
        "id": "K4VL_9ViUUwL"
      },
      "source": [
        "def f2(state):\n",
        "  #print(state)\n",
        "  rowsums = np.sum(state, axis = 1)\n",
        "  colsums = np.sum(state, axis = 0)\n",
        "  diagsum1 = np.trace(state)\n",
        "  diagsum2 = np.trace(np.flip(state, axis = 1))\n",
        "  totalsums = np.concatenate((rowsums, colsums, [diagsum1], [diagsum2]))\n",
        "  difference = np.abs(34 - totalsums)\n",
        "  #print(difference)\n",
        "  return np.max(difference)"
      ],
      "execution_count": null,
      "outputs": []
    },
    {
      "cell_type": "code",
      "metadata": {
        "colab": {
          "base_uri": "https://localhost:8080/"
        },
        "id": "9EK1HVn71Sz4",
        "outputId": "0754cdb0-b109-4244-eae3-ed7daf88f982"
      },
      "source": [
        "matrix2 = randomMatrix(4)\n",
        "f2(matrix2)"
      ],
      "execution_count": null,
      "outputs": [
        {
          "output_type": "execute_result",
          "data": {
            "text/plain": [
              "15"
            ]
          },
          "metadata": {
            "tags": []
          },
          "execution_count": 241
        }
      ]
    },
    {
      "cell_type": "code",
      "metadata": {
        "id": "h4u9F77d2nZw"
      },
      "source": [
        "# function to make a move, deciding whether or not to accept the proposed move\n",
        "def doMove(currState, k, n):\n",
        "  # propose a move\n",
        "  propState = proposeMove(currState, n)\n",
        "\n",
        "  # compute the function value difference\n",
        "  df = f(propState) - f(currState)\n",
        "\n",
        "  # if df < 0, then make the move\n",
        "  if df < 0:\n",
        "    return propState\n",
        "  \n",
        "  # if df > 0, then make the move with probability rho\n",
        "  rho = math.exp(-df/k)\n",
        "  rand = random.random()   # random number between 0 and 1\n",
        "  if rand < rho: # then move\n",
        "    return propState\n",
        "  # else: don't move\n",
        "  return currState"
      ],
      "execution_count": null,
      "outputs": []
    },
    {
      "cell_type": "code",
      "metadata": {
        "colab": {
          "base_uri": "https://localhost:8080/",
          "height": 488
        },
        "id": "dprZcaG3zNva",
        "outputId": "b501d5f0-326b-4f32-cba0-036b7bc195b3"
      },
      "source": [
        "# simulate the random walk\n",
        "numSteps = 1500\n",
        "k = 1\n",
        "decFac = 0.98  # decrease factor\n",
        "\n",
        "state = randomMatrix(4)\n",
        "\n",
        "print(\"starting state:\", state)\n",
        "print(\"starting f(state):\", f2(state))\n",
        "\n",
        "fvals = [f(state)] # keep track of function values \n",
        "for i in range(numSteps):\n",
        "  # make a move\n",
        "  state = doMove(state, k, 4)\n",
        "  fvals.append(f2(state))\n",
        "\n",
        "  # decrease k a little bit\n",
        "  k = k*decFac\n",
        "\n",
        "print(\"ending state:\", state)\n",
        "print(\"ending f(state):\", f2(state))\n",
        "print(\"k:\", k)\n",
        "\n",
        "plt.plot(fvals)\n",
        "plt.xlabel(\"number of steps\")\n",
        "plt.ylabel;(\"function value\")"
      ],
      "execution_count": null,
      "outputs": [
        {
          "output_type": "stream",
          "text": [
            "starting state: [[ 4  6 16  1]\n",
            " [11 13 14  3]\n",
            " [ 7  9  8 12]\n",
            " [10 15  5  2]]\n",
            "starting f(state): 16\n",
            "ending state: [[ 6  4 15  9]\n",
            " [14  7 12  1]\n",
            " [11 10  5  8]\n",
            " [ 3 13  2 16]]\n",
            "ending f(state): 0\n",
            "k: 6.90420278627408e-14\n"
          ],
          "name": "stdout"
        },
        {
          "output_type": "execute_result",
          "data": {
            "application/vnd.google.colaboratory.intrinsic+json": {
              "type": "string"
            },
            "text/plain": [
              "'function value'"
            ]
          },
          "metadata": {
            "tags": []
          },
          "execution_count": 247
        },
        {
          "output_type": "display_data",
          "data": {
            "image/png": "[encoded data removed]",
            "text/plain": [
              "<Figure size 432x288 with 1 Axes>"
            ]
          },
          "metadata": {
            "tags": [],
            "needs_background": "light"
          }
        }
      ]
    },
    {
      "cell_type": "code",
      "metadata": {
        "id": "OEN7oocIzz1B"
      },
      "source": [
        ""
      ],
      "execution_count": null,
      "outputs": []
    }
  ]
}
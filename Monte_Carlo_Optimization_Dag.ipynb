{
  "nbformat": 4,
  "nbformat_minor": 0,
  "metadata": {
    "colab": {
      "name": "Monte Carlo Optimization - Dag",
      "provenance": [],
      "include_colab_link": true
    },
    "kernelspec": {
      "name": "python3",
      "display_name": "Python 3"
    },
    "language_info": {
      "name": "python"
    }
  },
  "cells": [
    {
      "cell_type": "markdown",
      "metadata": {
        "id": "view-in-github",
        "colab_type": "text"
      },
      "source": [
        "<a href=\"https://colab.research.google.com/github/hailes1/MCMProjects/blob/main/Monte_Carlo_Optimization_Dag.ipynb\" target=\"_parent\"><img src=\"https://colab.research.google.com/assets/colab-badge.svg\" alt=\"Open In Colab\"/></a>"
      ]
    },
    {
      "cell_type": "markdown",
      "metadata": {
        "id": "lIKTlKwKBeGV"
      },
      "source": [
        "# Monte Carlo Optimization\n",
        "\n",
        "Monte Carlo optimization relies on adaptive random sampling to find the (approximately) minimum or maximum value of a function $f : \\Omega \\to \\mathbb{R}$. Typically such methods are used when the domain $\\Omega$ is high-dimensional and possibly very large. In such a situation, it is likely impossible to graph $f$ or to use calculus to find extreme values of $f$.\n",
        "\n",
        "We will explore an optimization method called *simulated annealing*. The name comes from the *annealing* in metallurgy: the process of heating and cooling a metal to modify its properties."
      ]
    },
    {
      "cell_type": "code",
      "metadata": {
        "id": "fBbF1wt3uUBr"
      },
      "source": [
        "import math \n",
        "import random\n",
        "import numpy as np\n",
        "import matplotlib.pyplot as plt"
      ],
      "execution_count": null,
      "outputs": []
    },
    {
      "cell_type": "markdown",
      "metadata": {
        "id": "xHLXefzPCsUt"
      },
      "source": [
        "## A simple example\n",
        "\n",
        "As a first example, let the domain be $\\Omega = \\{0, 1, 2, \\ldots, 100\\}$, and let the function be\n",
        "\n",
        "$$f(x) = \\frac{1}{4}\\sin\\left(\\frac{x}{2}\\right) + \\frac{(x-40)^2}{500} + 2.$$\n",
        "\n",
        "We want to find $x \\in \\Omega$ where $f$ is minimized.\n"
      ]
    },
    {
      "cell_type": "code",
      "metadata": {
        "id": "PZ5qzPXQBIkm"
      },
      "source": [
        "# domain: {0, 1, ..., 100}\n",
        "domain = list(range(101))\n",
        "\n",
        "# function to minimize\n",
        "def f(x):\n",
        "  return math.sin(x/2)/4 + (x-40)**2/500 + 2"
      ],
      "execution_count": null,
      "outputs": []
    },
    {
      "cell_type": "markdown",
      "metadata": {
        "id": "FjbXoB73D8gn"
      },
      "source": [
        "We will plot $f(x)$ to get some intution about where the minimum value occurs. Remember that in most situations where simulated annealing is used, we *can't* plot $f$."
      ]
    },
    {
      "cell_type": "code",
      "metadata": {
        "id": "zAFCygi4ENae",
        "colab": {
          "base_uri": "https://localhost:8080/",
          "height": 297
        },
        "outputId": "611d640b-599e-42ec-e672-d4bd833bf611"
      },
      "source": [
        "fvals = [f(x) for x in domain]\n",
        "plt.plot(domain,fvals,'g.')\n",
        "plt.xlabel(\"x\")\n",
        "plt.ylabel(\"f(x)\")"
      ],
      "execution_count": null,
      "outputs": [
        {
          "output_type": "execute_result",
          "data": {
            "text/plain": [
              "Text(0, 0.5, 'f(x)')"
            ]
          },
          "metadata": {
            "tags": []
          },
          "execution_count": 3
        },
        {
          "output_type": "display_data",
          "data": {
            "image/png": "[encoded data removed]",
            "text/plain": [
              "<Figure size 432x288 with 1 Axes>"
            ]
          },
          "metadata": {
            "tags": [],
            "needs_background": "light"
          }
        }
      ]
    },
    {
      "cell_type": "markdown",
      "metadata": {
        "id": "A5Jr6OghERgq"
      },
      "source": [
        "Now we will create a random walk on the domain $\\Omega$. Our goal is to make the random walk explore the domain and gravitate toward the values $x$ where $f(x)$ is minimized."
      ]
    },
    {
      "cell_type": "code",
      "metadata": {
        "id": "Lsr4_8hxEesu"
      },
      "source": [
        "# Let's Write a function to propose a move, based on the current location\n",
        "def proposeMove(curr):\n",
        "  move = random.choice([-3,-2,-1,1,2,3])\n",
        "  prop = curr + move # proposed move\n",
        "\n",
        "  #Make sure prop doesn't go off of the domain\n",
        "  if prop < 0:\n",
        "    prop = 0\n",
        "  if prop > 100:\n",
        "    prop = 100\n",
        "  return prop\n"
      ],
      "execution_count": null,
      "outputs": []
    },
    {
      "cell_type": "code",
      "metadata": {
        "id": "rhbZ-IT5Ee6Q",
        "colab": {
          "base_uri": "https://localhost:8080/"
        },
        "outputId": "5260445d-26e7-44e7-d5b0-18f78c7f1da2"
      },
      "source": [
        "proposeMove(100)"
      ],
      "execution_count": null,
      "outputs": [
        {
          "output_type": "execute_result",
          "data": {
            "text/plain": [
              "98"
            ]
          },
          "metadata": {
            "tags": []
          },
          "execution_count": 53
        }
      ]
    },
    {
      "cell_type": "code",
      "metadata": {
        "id": "sMF6CILEEfNb"
      },
      "source": [
        "#function to decided wheather or not to make a proposed move\n",
        "def doMove(curr, k):\n",
        "  prop = proposeMove(curr)\n",
        "\n",
        "  #computer the function value difference \n",
        "  df = f(prop) - f(curr)\n",
        "  #if the proposed location is better then make the move\n",
        "  if df < 0:\n",
        "    return prop\n",
        "  #if the proposed location is worse then we consider making the move and make it with the probability of e^-x/k\n",
        "  rho = math.exp(-df/k)\n",
        "  rand = random.random() #random number bettween 0 and 1\n",
        "  if rand < rho:\n",
        "    return prop\n",
        "  #else: don't move\n",
        "  return curr\n"
      ],
      "execution_count": null,
      "outputs": []
    },
    {
      "cell_type": "code",
      "metadata": {
        "colab": {
          "base_uri": "https://localhost:8080/"
        },
        "id": "Cf14Zw5ExsfK",
        "outputId": "78733d47-b2ad-4c23-df0a-dff6326a7f95"
      },
      "source": [
        "doMove(30,1/2)"
      ],
      "execution_count": null,
      "outputs": [
        {
          "output_type": "execute_result",
          "data": {
            "text/plain": [
              "33"
            ]
          },
          "metadata": {
            "tags": []
          },
          "execution_count": 55
        }
      ]
    },
    {
      "cell_type": "code",
      "metadata": {
        "colab": {
          "base_uri": "https://localhost:8080/",
          "height": 349
        },
        "id": "dBi6p0XYxxU-",
        "outputId": "f132a8c9-fd28-4661-bda7-aa2f76d81267"
      },
      "source": [
        "#simulate the random walk \n",
        "numSteps = 1000\n",
        "k = 1\n",
        "decFactor = .99 # after evry step multiply k by this decrease factor \n",
        "\n",
        "loc = random.randint(0,100) # starting location\n",
        "history = [loc] # Here is where I can track the locations I have visited\n",
        "for i in range(numSteps):\n",
        "  #make a move \n",
        "  loc = doMove(loc, k)\n",
        "  history.append(loc)\n",
        "  #decrease K a little bit\n",
        "\n",
        "  k = k * decFactor\n",
        "\n",
        "# print some results\n",
        "print(\"Final Location:\", loc)\n",
        "print(\"Function Value:\", f(loc))\n",
        "print(\"Final k:\", k)\n",
        "\n",
        "\n",
        "plt.plot(history)\n",
        "plt.xlabel(\"Time Step\")\n",
        "plt.ylabel(\"location\")"
      ],
      "execution_count": null,
      "outputs": [
        {
          "output_type": "stream",
          "text": [
            "Final Location: 35\n",
            "Function Value: 1.8060934986329606\n",
            "Final k: 4.317124741065784e-05\n"
          ],
          "name": "stdout"
        },
        {
          "output_type": "execute_result",
          "data": {
            "text/plain": [
              "Text(0, 0.5, 'location')"
            ]
          },
          "metadata": {
            "tags": []
          },
          "execution_count": 83
        },
        {
          "output_type": "display_data",
          "data": {
            "image/png": "[encoded data removed]",
            "text/plain": [
              "<Figure size 432x288 with 1 Axes>"
            ]
          },
          "metadata": {
            "tags": [],
            "needs_background": "light"
          }
        }
      ]
    },
    {
      "cell_type": "code",
      "metadata": {
        "id": "khg0N03i-RiH"
      },
      "source": [
        ""
      ],
      "execution_count": null,
      "outputs": []
    }
  ]
}
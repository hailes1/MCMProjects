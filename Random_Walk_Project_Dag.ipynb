{
  "nbformat": 4,
  "nbformat_minor": 0,
  "metadata": {
    "colab": {
      "name": "Random Walk Project Dag",
      "provenance": [],
      "collapsed_sections": [],
      "toc_visible": true,
      "authorship_tag": "ABX9TyM9kH9bNS+tBpy+hglpBepG",
      "include_colab_link": true
    },
    "kernelspec": {
      "name": "python3",
      "display_name": "Python 3"
    },
    "language_info": {
      "name": "python"
    }
  },
  "cells": [
    {
      "cell_type": "markdown",
      "metadata": {
        "id": "view-in-github",
        "colab_type": "text"
      },
      "source": [
        "<a href=\"https://colab.research.google.com/github/hailes1/MCMProjects/blob/main/Random_Walk_Project_Dag.ipynb\" target=\"_parent\"><img src=\"https://colab.research.google.com/assets/colab-badge.svg\" alt=\"Open In Colab\"/></a>"
      ]
    },
    {
      "cell_type": "markdown",
      "metadata": {
        "id": "VYXCe2XiHixo"
      },
      "source": [
        "#Random Walk Project \n",
        "#####Done by: Dagmawe Haileslassie\n"
      ]
    },
    {
      "cell_type": "markdown",
      "metadata": {
        "id": "rRCLSJ35JKTD"
      },
      "source": [
        "In this project we are going to consider a model of two-dimensional random walks that is not confined to integer-valued coordinates: \n",
        "\n",
        "  To get started we are first going to start at the origin, and choose a random unit vector (in any direction) for each step. What this means is we are going to determine a step of the walk, by first choosing an angle θ (uniformly) from the interval [0, 2π).\n",
        "The step of the walk will then be (cos(θ),sin(θ))."
      ]
    },
    {
      "cell_type": "code",
      "metadata": {
        "id": "pNPqmDuJLJnj"
      },
      "source": [
        "import random\n",
        "import numpy as np\n",
        "import matplotlib.pyplot as plt\n",
        "import math\n",
        "import decimal "
      ],
      "execution_count": null,
      "outputs": []
    },
    {
      "cell_type": "code",
      "metadata": {
        "id": "mhueF69-LJ9z"
      },
      "source": [
        "#define the possible moves of each step. \n",
        "dirs = np.array([[1,0],[-1,0],[0,1], [0,-1]])\n",
        "#define the number of steps \n",
        "numSteps = 100\n",
        "#setup a new matrix\n",
        "locations = np.zeros((numSteps,2)) #numSteps rows and 2 colomns\n",
        "for i in range(1,numSteps):\n",
        "  degrees = random.uniform(0,360);\n",
        "  r = random.randrange(4) #random integer {0,1,2,3}\n",
        "  sinTheta = math.sin(degrees)\n",
        "  cosTheta = math.cos(degrees)\n",
        "  move = np.array([[sinTheta,cosTheta]])   #acess random move from the matrix we created earlier \n",
        "  locations[i] = locations[i-1] + move #accessing rows with locations[i]\n",
        "#locations"
      ],
      "execution_count": null,
      "outputs": []
    },
    {
      "cell_type": "code",
      "metadata": {
        "colab": {
          "base_uri": "https://localhost:8080/",
          "height": 341
        },
        "id": "r98xAgNyM2IX",
        "outputId": "db0a83c2-f2c0-43a8-84af-009344a2ad68"
      },
      "source": [
        "plt.figure(figsize=(5,5))\n",
        "plt.plot( locations[:,0], locations[:,1], alpha=0.7 );\n",
        "plt.plot([0],[0], 'ro')\n",
        "plt.plot(locations[-1,0],locations[-1,1], 'go')\n",
        "plt.xlim([-10,10])\n",
        "plt.ylim([-10,10])"
      ],
      "execution_count": null,
      "outputs": [
        {
          "output_type": "execute_result",
          "data": {
            "text/plain": [
              "(-10.0, 10.0)"
            ]
          },
          "metadata": {
            "tags": []
          },
          "execution_count": 4
        },
        {
          "output_type": "display_data",
          "data": {
            "image/png": "[encoded data removed]",
            "text/plain": [
              "<Figure size 360x360 with 1 Axes>"
            ]
          },
          "metadata": {
            "tags": [],
            "needs_background": "light"
          }
        }
      ]
    },
    {
      "cell_type": "markdown",
      "metadata": {
        "id": "2w6rcpAekPcP"
      },
      "source": [
        "#Implementing a random walk function"
      ]
    },
    {
      "cell_type": "markdown",
      "metadata": {
        "id": "Z2zjR8aAhPWQ"
      },
      "source": [
        "Now that we have seen that our approach to solving this problem is fruitful let us implement the random walk as a function and we will make the function take in the total number of steps we want to take. We will then make a few plots of sample random walks to show that the functional implementation works.\n"
      ]
    },
    {
      "cell_type": "code",
      "metadata": {
        "id": "3VrZHge1NiHN"
      },
      "source": [
        "def randomWalk2D(numSteps):   # We already have a numSteps defined in the argument call  \n",
        "  #setup a new matrix\n",
        "  locations = np.zeros((numSteps,2)) #numSteps rows and 2 colomns\n",
        "  for i in range(1,numSteps):\n",
        "    degrees = random.uniform(0,360);\n",
        "    sinTheta = math.sin(degrees)\n",
        "    cosTheta = math.cos(degrees)\n",
        "    move = np.array([[sinTheta,cosTheta]])   #acess random move from the matrix we created earlier \n",
        "    locations[i] = locations[i-1] + move #accessing rows with locations[i]\n",
        "  return locations\n"
      ],
      "execution_count": null,
      "outputs": []
    },
    {
      "cell_type": "code",
      "metadata": {
        "id": "IqYEo4ytRpl2"
      },
      "source": [
        "randomwalk1 = randomWalk2D(100)\n",
        "randomwalk2 = randomWalk2D(200)"
      ],
      "execution_count": null,
      "outputs": []
    },
    {
      "cell_type": "code",
      "metadata": {
        "colab": {
          "base_uri": "https://localhost:8080/",
          "height": 341
        },
        "id": "WubX-VEtRraM",
        "outputId": "9107e67b-f74c-4d91-f818-c617ad99476d"
      },
      "source": [
        "plt.figure(figsize=(5,5))\n",
        "plt.plot( randomwalk1[:,0], randomwalk1[:,1], alpha=0.7 );\n",
        "plt.plot([0],[0], 'ro')\n",
        "plt.plot(randomwalk1[-1,0],randomwalk1[-1,1], 'go')\n",
        "plt.xlim([-10,10])\n",
        "plt.ylim([-10,10])"
      ],
      "execution_count": null,
      "outputs": [
        {
          "output_type": "execute_result",
          "data": {
            "text/plain": [
              "(-10.0, 10.0)"
            ]
          },
          "metadata": {
            "tags": []
          },
          "execution_count": 139
        },
        {
          "output_type": "display_data",
          "data": {
            "image/png": "[encoded data removed]",
            "text/plain": [
              "<Figure size 360x360 with 1 Axes>"
            ]
          },
          "metadata": {
            "tags": [],
            "needs_background": "light"
          }
        }
      ]
    },
    {
      "cell_type": "code",
      "metadata": {
        "colab": {
          "base_uri": "https://localhost:8080/",
          "height": 341
        },
        "id": "3mYyfMiMaPAk",
        "outputId": "32006a91-8d88-4d72-ede7-9edca3bfa22a"
      },
      "source": [
        "plt.figure(figsize=(5,5))\n",
        "plt.plot( randomwalk2[:,0], randomwalk2[:,1], alpha=0.7 );\n",
        "plt.plot([0],[0], 'ro')\n",
        "plt.plot(randomwalk2[-1,0],randomwalk2[-1,1], 'go')\n",
        "plt.xlim([-10,10])\n",
        "plt.ylim([-10,10])"
      ],
      "execution_count": null,
      "outputs": [
        {
          "output_type": "execute_result",
          "data": {
            "text/plain": [
              "(-10.0, 10.0)"
            ]
          },
          "metadata": {
            "tags": []
          },
          "execution_count": 140
        },
        {
          "output_type": "display_data",
          "data": {
            "image/png": "[encoded data removed]",
            "text/plain": [
              "<Figure size 360x360 with 1 Axes>"
            ]
          },
          "metadata": {
            "tags": [],
            "needs_background": "light"
          }
        }
      ]
    },
    {
      "cell_type": "markdown",
      "metadata": {
        "id": "I0DQ0DSdkX71"
      },
      "source": [
        "#Finding the Average Distance of a 2 dimentional random walk from the Origin after n steps. "
      ]
    },
    {
      "cell_type": "markdown",
      "metadata": {
        "id": "2beQROruaaxM"
      },
      "source": [
        "In this Task we are trying to find the average distance of the random walk from the origin after n steps. So first we are going to calculate the diameter from our maximum and minimum yvalue point and our maximum and minimum xvalue point. We should think about the pythogoras theorum when looking at possible ways to solve this problem.\n",
        "Let's try to implement that in a function."
      ]
    },
    {
      "cell_type": "code",
      "metadata": {
        "id": "z2l_UUE6kauH"
      },
      "source": [
        "def diameter(awalk):\n",
        "  xvals = [p[0] for p in awalk]\n",
        "  yvals = [p[1] for p in awalk]\n",
        "  width = max(xvals) - min(xvals)\n",
        "  height = max(yvals) - min(yvals)\n",
        "  diameter = math.sqrt(width**2 + height**2)\n",
        "  return diameter"
      ],
      "execution_count": null,
      "outputs": []
    },
    {
      "cell_type": "markdown",
      "metadata": {
        "id": "5kcwN74dn1fR"
      },
      "source": [
        "In the function above we can see that when provided a list of possible steps taken by the randomwalk2D function if first filters out the change in maximum and minimum x value and the change in maximum and minimum y value and then solves the hypothenes. Now that we have that figured out let's try to find an average diameter for a range of numWalks. By doing this we are noting that the diameter is always going to vary for one run of the RandomWalk function we are therefore trying to see the average over a number of runs to find a more accurate result. \n"
      ]
    },
    {
      "cell_type": "code",
      "metadata": {
        "id": "FgxBxjuklmK1"
      },
      "source": [
        "def avgDiameter(numWalks, numSteps):\n",
        "  diams = [diameter(randomWalk2D(numSteps)) for _ in range(numWalks)]\n",
        "  avg = sum(diams)/numWalks\n",
        "  #print(diams)\n",
        "  return avg"
      ],
      "execution_count": null,
      "outputs": []
    },
    {
      "cell_type": "code",
      "metadata": {
        "id": "bLr3H-dGlsI0",
        "colab": {
          "base_uri": "https://localhost:8080/"
        },
        "outputId": "5767935b-e077-4d19-8b59-c8e1ef9be5ed"
      },
      "source": [
        "avgDiameter(20,100)"
      ],
      "execution_count": null,
      "outputs": [
        {
          "output_type": "execute_result",
          "data": {
            "text/plain": [
              "15.947766770509418"
            ]
          },
          "metadata": {
            "tags": []
          },
          "execution_count": 143
        }
      ]
    },
    {
      "cell_type": "markdown",
      "metadata": {
        "id": "UT35iF8ouZEp"
      },
      "source": [
        "It is now time to make a plot showing how the average distance of the random walk from the origin depends on n. Therefore to do this we are gong to create a list nvals and running our avgDiameter function for different nvals each a 1000 times. "
      ]
    },
    {
      "cell_type": "code",
      "metadata": {
        "colab": {
          "base_uri": "https://localhost:8080/"
        },
        "id": "ueshn_uCzheh",
        "outputId": "92de83ad-61df-42f9-ad0f-a06565044226"
      },
      "source": [
        "nvals = range(50, 1000, 50)\n",
        "listofAvgDiam = [avgDiameter(1000,n) for n in nvals]\n",
        "listofAvgDiam"
      ],
      "execution_count": null,
      "outputs": [
        {
          "output_type": "execute_result",
          "data": {
            "text/plain": [
              "[10.33732559066418,\n",
              " 15.195468948751358,\n",
              " 18.786568304026403,\n",
              " 22.13239171358417,\n",
              " 24.826439513865832,\n",
              " 27.086669463578588,\n",
              " 29.370677149514492,\n",
              " 31.62129520928357,\n",
              " 33.29530004065058,\n",
              " 35.74515229777667,\n",
              " 37.242455292827124,\n",
              " 38.545718518215445,\n",
              " 41.128892070771194,\n",
              " 42.08335484556447,\n",
              " 43.903335030627304,\n",
              " 45.344876158530276,\n",
              " 46.76437563786508,\n",
              " 47.910749233682,\n",
              " 49.34671078342901]"
            ]
          },
          "metadata": {
            "tags": []
          },
          "execution_count": 167
        }
      ]
    },
    {
      "cell_type": "code",
      "metadata": {
        "colab": {
          "base_uri": "https://localhost:8080/",
          "height": 297
        },
        "id": "4Co3fWjG0QSh",
        "outputId": "948dcd33-be1f-488f-fa7c-4ec66b61f0b7"
      },
      "source": [
        "#vals2 = [i for i in xvals]\n",
        "plt.plot(nvals, listofAvgDiam, 'go')\n",
        "#plt.plot(xvals,yvals2, 'r-')\n",
        "plt.xlabel(\"num of steps\")\n",
        "plt.ylabel(\"average diameter\")"
      ],
      "execution_count": null,
      "outputs": [
        {
          "output_type": "execute_result",
          "data": {
            "text/plain": [
              "Text(0, 0.5, 'average diameter')"
            ]
          },
          "metadata": {
            "tags": []
          },
          "execution_count": 168
        },
        {
          "output_type": "display_data",
          "data": {
            "image/png": "[encoded data removed]",
            "text/plain": [
              "<Figure size 432x288 with 1 Axes>"
            ]
          },
          "metadata": {
            "tags": [],
            "needs_background": "light"
          }
        }
      ]
    },
    {
      "cell_type": "markdown",
      "metadata": {
        "id": "ayMxKh4BqPgZ"
      },
      "source": [
        "As we can see, intuitively as the number of steps increases then so does the average diameter of our plots. The location of the points in the graph and how it's increasing seems to be a lot like a log function. Which means when we relate it back to the graph we had when we calculated the average diameter for RandomWalk with 1D it is different.  "
      ]
    },
    {
      "cell_type": "markdown",
      "metadata": {
        "id": "3NB1MmP_l4JV"
      },
      "source": [
        "#Finding if the RandomWalk function returns to a circle of radius 1/2 around the origin."
      ]
    },
    {
      "cell_type": "markdown",
      "metadata": {
        "id": "cQVuaKQPrlnD"
      },
      "source": [
        "Another question we are going to be looking at is wheather the randomwalk function that we have written eariler returns to within a circle of radius 1/2 \n",
        "around the origin. Why?\n",
        "Well the implementation we have written earlier is not a grid which means the probability that it would come back to exactly the origin is very low. Therefore we are checking if it's going to come back to a set radius around the origin instead.  \n",
        "Specifically in this chunk of code we are going to look at what proportion of n-step random walks return at least once to within 1/2 unit of the origin?"
      ]
    },
    {
      "cell_type": "code",
      "metadata": {
        "id": "12VUXYu7l8qb"
      },
      "source": [
        "#function that simulate a random walk\n",
        "def comeBackToOrigin(numSteps):\n",
        "  w = randomWalk2D(numSteps)\n",
        "  xvals = [p[0] for p in w]\n",
        "  yvals = [p[1] for p in w]\n",
        "  for i in range(1,numSteps):\n",
        "    width = xvals[i]\n",
        "    height = yvals[i]\n",
        "    distance = math.sqrt(width**2 + height**2)\n",
        "    if distance <= 1/2:\n",
        "      return True    \n",
        "      \n",
        "  return False"
      ],
      "execution_count": null,
      "outputs": []
    },
    {
      "cell_type": "markdown",
      "metadata": {
        "id": "ovLvxpY0sbvV"
      },
      "source": [
        "Let us try to see if the above function works. "
      ]
    },
    {
      "cell_type": "code",
      "metadata": {
        "colab": {
          "base_uri": "https://localhost:8080/"
        },
        "id": "QCFx7kxIshFV",
        "outputId": "2e62466c-f189-4f3b-e668-3caa822c7cef"
      },
      "source": [
        "comeBackToOrigin(30)"
      ],
      "execution_count": null,
      "outputs": [
        {
          "output_type": "execute_result",
          "data": {
            "text/plain": [
              "False"
            ]
          },
          "metadata": {
            "tags": []
          },
          "execution_count": 151
        }
      ]
    },
    {
      "cell_type": "markdown",
      "metadata": {
        "id": "Jg4SaAjlsj5M"
      },
      "source": [
        "Now that we know the function is working and it shows us that for the specific run we made with 30 number of steps it doesn't seem to return to the origin. Let us now calculate the proportion over multiple walks(multiple runs of the RandomWalk2D function) and see  How this proportion depends on n? \n",
        "\n",
        "We are then going to Investigate for various n and make a plot of our results."
      ]
    },
    {
      "cell_type": "code",
      "metadata": {
        "id": "iBiWLD2BpUr_"
      },
      "source": [
        "def propThatReturn(numWalks, numSteps):\n",
        "  vals = [comeBackToOrigin(numSteps) for _ in range(numWalks)]#list of true or false values\n",
        "  n = sum(vals) # number of true values in a list\n",
        "  return n/numWalks"
      ],
      "execution_count": null,
      "outputs": []
    },
    {
      "cell_type": "code",
      "metadata": {
        "colab": {
          "base_uri": "https://localhost:8080/"
        },
        "id": "kZuXj_4v4JHU",
        "outputId": "42468002-0a63-4b39-a4e4-b8b571fa1ed1"
      },
      "source": [
        "propThatReturn(500, 1000)"
      ],
      "execution_count": null,
      "outputs": [
        {
          "output_type": "execute_result",
          "data": {
            "text/plain": [
              "0.65"
            ]
          },
          "metadata": {
            "tags": []
          },
          "execution_count": 129
        }
      ]
    },
    {
      "cell_type": "code",
      "metadata": {
        "colab": {
          "base_uri": "https://localhost:8080/"
        },
        "id": "8SKf1BSy5Cgd",
        "outputId": "3fbce9de-5b1a-4a29-a840-6e11443da9fc"
      },
      "source": [
        "nvals = [10**k for k in range(1,5)]\n",
        "listofproportions = [propThatReturn(300,n) for n in nvals]\n",
        "print(\"finished numSteps\", numSteps)\n",
        "listofproportions"
      ],
      "execution_count": null,
      "outputs": [
        {
          "output_type": "stream",
          "text": [
            "finished numSteps 100\n"
          ],
          "name": "stdout"
        },
        {
          "output_type": "execute_result",
          "data": {
            "text/plain": [
              "[0.34, 0.5266666666666666, 0.66, 0.65]"
            ]
          },
          "metadata": {
            "tags": []
          },
          "execution_count": 130
        }
      ]
    },
    {
      "cell_type": "code",
      "metadata": {
        "colab": {
          "base_uri": "https://localhost:8080/",
          "height": 301
        },
        "id": "PTf0T1kK5cv2",
        "outputId": "42b9574c-cf9e-4c96-8c63-8b6939a1e52b"
      },
      "source": [
        "plt.plot(nvals,listofproportions, 'go')\n",
        "plt.xscale(\"log\")\n",
        "plt.xlabel(\"num of steps\")\n",
        "plt.ylabel(\"proportion that return\")"
      ],
      "execution_count": null,
      "outputs": [
        {
          "output_type": "execute_result",
          "data": {
            "text/plain": [
              "Text(0, 0.5, 'proportion that return')"
            ]
          },
          "metadata": {
            "tags": []
          },
          "execution_count": 132
        },
        {
          "output_type": "display_data",
          "data": {
            "image/png": "[encoded data removed]",
            "text/plain": [
              "<Figure size 432x288 with 1 Axes>"
            ]
          },
          "metadata": {
            "tags": [],
            "needs_background": "light"
          }
        }
      ]
    },
    {
      "cell_type": "markdown",
      "metadata": {
        "id": "bz0Oew7VtFEt"
      },
      "source": [
        "Looking at the graph above we can see that for num of steps close to 10000 the possibility of \"returning\" to the origin is about 65%. One of the limitations that I can think about is weather of not I run this long enough for me to see if it increases the percentage. But in the end yes I believe it will eventually return near the origin? "
      ]
    },
    {
      "cell_type": "markdown",
      "metadata": {
        "id": "PIGEkx_F5xmI"
      },
      "source": [
        "# Limiting our RandomWalk to -5 <= y <= 5\n"
      ]
    },
    {
      "cell_type": "markdown",
      "metadata": {
        "id": "pDgKIKugvZJm"
      },
      "source": [
        "In the next part of our report we are going to see what happens if we constrain the random walk to the region −5 ≤ y ≤ 5? Therefore we are going to try to Modify our code to keep the y-coordinate of the walk between −5 and 5. We are going to approach this problem by simply changing the degree of turn that it makes in the yvalue by 180. Therefore when the random walk is going to go off the grid it will return 180 degrees to another direction.  "
      ]
    },
    {
      "cell_type": "code",
      "metadata": {
        "id": "Peg4PxbA51Fr"
      },
      "source": [
        "def randomWalk2DConstrain(numSteps):   # We already have a numSteps defined in the argument call  \n",
        "  #setup a new matrix\n",
        "  locations = np.zeros((numSteps,2)) #numSteps rows and 2 colomns\n",
        "  for i in range(1,numSteps):\n",
        "    degrees = random.uniform(0,360);\n",
        "    x = math.sin(degrees)\n",
        "    y = math.cos(degrees)\n",
        "    move = np.array([[x,y]])   #acess random move from the matrix we created earlier \n",
        "    locations[i] = locations[i-1] + move #accessing rows with locations[i]\n",
        "    if locations[i,1]<=5 and locations[i,1]<=5 :\n",
        "      move = np.array([[x,y]])   #acess random move from the matrix we created earlier \n",
        "      locations[i] = locations[i-1] + move #accessing rows with locations[i]\n",
        "    else:\n",
        "      y = math.cos(180)\n",
        "      move = np.array([[x,y]])   #acess random move from the matrix we created earlier \n",
        "      locations[i] = locations[i-1] + move #accessing rows with locations[i]\n",
        "  return locations"
      ],
      "execution_count": null,
      "outputs": []
    },
    {
      "cell_type": "code",
      "metadata": {
        "id": "bhu21p2L6_jm"
      },
      "source": [
        "randomwalk1Con = randomWalk2DConstrain(100)\n",
        "randomwalk2Con = randomWalk2DConstrain(200)"
      ],
      "execution_count": null,
      "outputs": []
    },
    {
      "cell_type": "code",
      "metadata": {
        "colab": {
          "base_uri": "https://localhost:8080/",
          "height": 341
        },
        "id": "esOcb_557Jf4",
        "outputId": "e920d648-bdb0-4ef7-f1fe-ba807a081514"
      },
      "source": [
        "plt.figure(figsize=(5,5))\n",
        "plt.plot( randomwalk1Con[:,0], randomwalk1Con[:,1], alpha=0.7 );\n",
        "plt.plot([0],[0], 'ro')\n",
        "plt.plot(randomwalk1Con[-1,0],randomwalk1Con[-1,1], 'go')\n",
        "plt.xlim([-10,10])\n",
        "plt.ylim([-10,10])"
      ],
      "execution_count": null,
      "outputs": [
        {
          "output_type": "execute_result",
          "data": {
            "text/plain": [
              "(-10.0, 10.0)"
            ]
          },
          "metadata": {
            "tags": []
          },
          "execution_count": 95
        },
        {
          "output_type": "display_data",
          "data": {
            "image/png": "[encoded data removed]",
            "text/plain": [
              "<Figure size 360x360 with 1 Axes>"
            ]
          },
          "metadata": {
            "tags": [],
            "needs_background": "light"
          }
        }
      ]
    },
    {
      "cell_type": "code",
      "metadata": {
        "colab": {
          "base_uri": "https://localhost:8080/",
          "height": 341
        },
        "id": "zlW_7z48FYMA",
        "outputId": "756c4eff-1f13-4844-88ba-58f7ebde884a"
      },
      "source": [
        "plt.figure(figsize=(5,5))\n",
        "plt.plot( randomwalk2Con[:,0], randomwalk2Con[:,1], alpha=0.7 );\n",
        "plt.plot([0],[0], 'ro')\n",
        "plt.plot(randomwalk2Con[-1,0],randomwalk2Con[-1,1], 'go')\n",
        "plt.xlim([-10,10])\n",
        "plt.ylim([-10,10])"
      ],
      "execution_count": null,
      "outputs": [
        {
          "output_type": "execute_result",
          "data": {
            "text/plain": [
              "(-10.0, 10.0)"
            ]
          },
          "metadata": {
            "tags": []
          },
          "execution_count": 152
        },
        {
          "output_type": "display_data",
          "data": {
            "image/png": "[encoded data removed]",
            "text/plain": [
              "<Figure size 360x360 with 1 Axes>"
            ]
          },
          "metadata": {
            "tags": [],
            "needs_background": "light"
          }
        }
      ]
    },
    {
      "cell_type": "markdown",
      "metadata": {
        "id": "XBrvgjJ0wPkT"
      },
      "source": [
        "So far we can see that we have made a few plots of random walks to show that your modified implementation works. We should now repeat tasks 2 and 3 for this\n",
        "constrained random walk. and check if we see any differences "
      ]
    },
    {
      "cell_type": "markdown",
      "metadata": {
        "id": "n09cvr9EyQ-s"
      },
      "source": [
        "Let's see if the new change in limiting the y values to -5 and 5 changes anything in the average diameter of the RandomWalk function "
      ]
    },
    {
      "cell_type": "code",
      "metadata": {
        "id": "YbloJiHjxn9L"
      },
      "source": [
        "def avgDiameterConstrain(numWalks, numSteps):\n",
        "  diams = [diameter(randomWalk2DConstrain(numSteps)) for _ in range(numWalks)]\n",
        "  avg = sum(diams)/numWalks\n",
        "  #print(diams)\n",
        "  return avg"
      ],
      "execution_count": null,
      "outputs": []
    },
    {
      "cell_type": "code",
      "metadata": {
        "colab": {
          "base_uri": "https://localhost:8080/"
        },
        "id": "TCsnpiHVxwNU",
        "outputId": "a388f98e-1137-457d-efcf-443279d965ec"
      },
      "source": [
        "avgDiameterConstrain(20,100)"
      ],
      "execution_count": null,
      "outputs": [
        {
          "output_type": "execute_result",
          "data": {
            "text/plain": [
              "13.557272933419345"
            ]
          },
          "metadata": {
            "tags": []
          },
          "execution_count": 163
        }
      ]
    },
    {
      "cell_type": "code",
      "metadata": {
        "colab": {
          "base_uri": "https://localhost:8080/"
        },
        "id": "RSCk71WPx4us",
        "outputId": "d12db343-9efa-4ac5-c26d-ac13b50d4c76"
      },
      "source": [
        "nvals = range(50, 1000, 50)\n",
        "listofAvgDiam = [avgDiameterConstrain(1000,n) for n in nvals]\n",
        "listofAvgDiam"
      ],
      "execution_count": null,
      "outputs": [
        {
          "output_type": "execute_result",
          "data": {
            "text/plain": [
              "[9.871156451222932,\n",
              " 14.17514453623276,\n",
              " 17.513532428694763,\n",
              " 20.36573089232692,\n",
              " 22.247698816455898,\n",
              " 24.627980542834315,\n",
              " 26.921568280784378,\n",
              " 28.764836498921976,\n",
              " 30.465668598461527,\n",
              " 32.21278736346677,\n",
              " 33.95922897368877,\n",
              " 34.42836482004601,\n",
              " 36.78125948505565,\n",
              " 37.96061979129569,\n",
              " 39.73646651685966,\n",
              " 40.99654266493772,\n",
              " 42.691582633392464,\n",
              " 42.99072042943058,\n",
              " 44.52929674794361]"
            ]
          },
          "metadata": {
            "tags": []
          },
          "execution_count": 169
        }
      ]
    },
    {
      "cell_type": "code",
      "metadata": {
        "colab": {
          "base_uri": "https://localhost:8080/",
          "height": 297
        },
        "id": "y_894dS8yLA5",
        "outputId": "1406d441-6344-4803-94f4-947adba4590f"
      },
      "source": [
        "#vals2 = [i for i in xvals]\n",
        "plt.plot(nvals, listofAvgDiam, 'go')\n",
        "#plt.plot(xvals,yvals2, 'r-')\n",
        "plt.xlabel(\"num of steps\")\n",
        "plt.ylabel(\"average diameter\")"
      ],
      "execution_count": null,
      "outputs": [
        {
          "output_type": "execute_result",
          "data": {
            "text/plain": [
              "Text(0, 0.5, 'average diameter')"
            ]
          },
          "metadata": {
            "tags": []
          },
          "execution_count": 170
        },
        {
          "output_type": "display_data",
          "data": {
            "image/png": "[encoded data removed]",
            "text/plain": [
              "<Figure size 432x288 with 1 Axes>"
            ]
          },
          "metadata": {
            "tags": [],
            "needs_background": "light"
          }
        }
      ]
    },
    {
      "cell_type": "markdown",
      "metadata": {
        "id": "RK5Qr_kry9aq"
      },
      "source": [
        "Let's see if the new change in limiting the y values to -5 and 5 changes anything in finding if the RandomWalk function returns to a circle of radius 1/2 around the origin.  "
      ]
    },
    {
      "cell_type": "code",
      "metadata": {
        "id": "ycG4oc7fwc7e"
      },
      "source": [
        "def comeBackToOriginConstrain(numSteps):\n",
        "  w = randomWalk2DConstrain(numSteps)\n",
        "  xvals = [p[0] for p in w]\n",
        "  yvals = [p[1] for p in w]\n",
        "  for i in range(1,numSteps):\n",
        "    width = xvals[i]\n",
        "    height = yvals[i]\n",
        "    distance = math.sqrt(width**2 + height**2)\n",
        "    if distance <= 1/2:\n",
        "      return True    \n",
        "      \n",
        "  return False"
      ],
      "execution_count": null,
      "outputs": []
    },
    {
      "cell_type": "code",
      "metadata": {
        "id": "4jDEUpd0wmEV"
      },
      "source": [
        "def propThatReturnConstrain(numWalks, numSteps):\n",
        "  vals = [comeBackToOriginConstrain(numSteps) for _ in range(numWalks)]#list of true or false values\n",
        "  n = sum(vals) # number of true values in a list\n",
        "  return n/numWalks"
      ],
      "execution_count": null,
      "outputs": []
    },
    {
      "cell_type": "code",
      "metadata": {
        "colab": {
          "base_uri": "https://localhost:8080/"
        },
        "id": "yhIg0ut7wtZZ",
        "outputId": "bacef419-d362-47c8-9b8a-0176a11ce549"
      },
      "source": [
        "nvals = [10**k for k in range(1,5)]\n",
        "listofproportionsConstrain = [propThatReturnConstrain(300,n) for n in nvals]\n",
        "print(\"finished numSteps\", numSteps)\n",
        "listofproportionsConstrain"
      ],
      "execution_count": 172,
      "outputs": [
        {
          "output_type": "stream",
          "text": [
            "finished numSteps 100\n"
          ],
          "name": "stdout"
        },
        {
          "output_type": "execute_result",
          "data": {
            "text/plain": [
              "[0.3466666666666667,\n",
              " 0.5466666666666666,\n",
              " 0.7266666666666667,\n",
              " 0.8166666666666667]"
            ]
          },
          "metadata": {
            "tags": []
          },
          "execution_count": 172
        }
      ]
    },
    {
      "cell_type": "code",
      "metadata": {
        "colab": {
          "base_uri": "https://localhost:8080/",
          "height": 301
        },
        "id": "aQDxJ29TxQYg",
        "outputId": "226a58a2-5b21-4856-8b79-f6ecfaba8262"
      },
      "source": [
        "plt.plot(nvals,listofproportionsConstrain, 'go')\n",
        "plt.xscale(\"log\")\n",
        "plt.xlabel(\"num of steps\")\n",
        "plt.ylabel(\"proportion that return\")"
      ],
      "execution_count": 173,
      "outputs": [
        {
          "output_type": "execute_result",
          "data": {
            "text/plain": [
              "Text(0, 0.5, 'proportion that return')"
            ]
          },
          "metadata": {
            "tags": []
          },
          "execution_count": 173
        },
        {
          "output_type": "display_data",
          "data": {
            "image/png": "[encoded data removed]",
            "text/plain": [
              "<Figure size 432x288 with 1 Axes>"
            ]
          },
          "metadata": {
            "tags": [],
            "needs_background": "light"
          }
        }
      ]
    },
    {
      "cell_type": "markdown",
      "metadata": {
        "id": "DKSth469znhj"
      },
      "source": [
        "# Conclusion"
      ]
    },
    {
      "cell_type": "markdown",
      "metadata": {
        "id": "s7B4Yy8wzz3Y"
      },
      "source": [
        "So in this project we were able to implement a new 2-Dimensional RandomWalk function that doesn't seem to be a lot different from the grid implementation we did in class. One thing we can thing about is the percentage of how much the randomwalk function will return to the \"origin\" and it seems to be lower than our class implementation. We can also see that the diameter of largest and smallest points isn't totally different from the grid implementation as well. I believe this would change with increased sample size but that was one of the major limitations for this project. "
      ]
    },
    {
      "cell_type": "markdown",
      "metadata": {
        "id": "BMw7XB4xzpSZ"
      },
      "source": [
        "# Limitations"
      ]
    },
    {
      "cell_type": "markdown",
      "metadata": {
        "id": "N9nesnpj08dU"
      },
      "source": [
        "An Intuitive limiation for this project is the limit on the number of steps. I also want to investigate more on other scenarios like, how long it would take to fill up a whole sample space. What if we changed the move not just by one unit but more than that and the outcomes of that problem. There could be a lot of limitations for this project. "
      ]
    }
  ]
}
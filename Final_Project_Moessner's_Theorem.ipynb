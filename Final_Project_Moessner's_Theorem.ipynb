{
  "nbformat": 4,
  "nbformat_minor": 0,
  "metadata": {
    "colab": {
      "name": "Final Project - Moessner's Theorem",
      "provenance": [],
      "collapsed_sections": [],
      "include_colab_link": true
    },
    "kernelspec": {
      "name": "python3",
      "display_name": "Python 3"
    },
    "language_info": {
      "name": "python"
    }
  },
  "cells": [
    {
      "cell_type": "markdown",
      "metadata": {
        "id": "view-in-github",
        "colab_type": "text"
      },
      "source": [
        "<a href=\"https://colab.research.google.com/github/hailes1/MCMProjects/blob/main/Final_Project_Moessner's_Theorem.ipynb\" target=\"_parent\"><img src=\"https://colab.research.google.com/assets/colab-badge.svg\" alt=\"Open In Colab\"/></a>"
      ]
    },
    {
      "cell_type": "markdown",
      "metadata": {
        "id": "SszeF6flAcFd"
      },
      "source": [
        "# Final Project - **Moessner's Theorem**\n",
        "## Kylie Landa and Dagmawe Haileslassie\n",
        "\n",
        "In this project we will be investigating and attempting to computationally prove Moessner's theorem. We will be utilizing Dexter Kozen and Alexandr Silva's paper on this theorem as a basis for our code and computations. \n",
        "\n",
        "**The basis of Moessner's theorem is as follows:**\n",
        "\n",
        "\n",
        "To generate our first sequence we record every positive integer 1,2,3,... and we then cross out every nth element. From here we compute the prefix sums of the first sequence, ignoring the elements we have crossed out. From here we cross out every (n-1)st element. For the third and final sequence we compute the prefix sums of our second sequence and then we cross out every (n-2)nd element in our sequence. \n",
        "\n",
        "\n",
        "Moessner's theorem states that the final sequence we are left with will be 1^n, 2^n, 3^n,... \n",
        "\n",
        "\n",
        "We will begin our investigation by developing code that can carry out the process outlined above. We will then compare it with the sequence of Moessner's theorem to verify. \n",
        "\n",
        "\n",
        "After this, we will generate a generalization of Moessner's theorem known as Paasche's theorem. This theorem varies our parameters of the procedure (by increasing our step size by one each time). From this process we will prove that we can obtain a sequence of factorials as well as a sequence of super factorials. \n",
        "\n",
        "Finally, we will develop our own procedures based upon Moessner's theorem and investigate whether we are able to produce and relevant patterns and integer sequences using these new procedures. \n",
        "\n"
      ]
    },
    {
      "cell_type": "markdown",
      "metadata": {
        "id": "_AMBu2l0F3WK"
      },
      "source": [
        "## **Investigation**"
      ]
    },
    {
      "cell_type": "markdown",
      "metadata": {
        "id": "RVli1iNUGE8H"
      },
      "source": [
        "Begin by importing neccesary modules for this project. "
      ]
    },
    {
      "cell_type": "code",
      "metadata": {
        "id": "ZzfEeHB8DE1i"
      },
      "source": [
        "import math\n",
        "import random\n",
        "import numpy as np\n",
        "import matplotlib.pyplot as plt\n",
        "from itertools import accumulate"
      ],
      "execution_count": null,
      "outputs": []
    },
    {
      "cell_type": "markdown",
      "metadata": {
        "id": "TuDCCe6xGJuN"
      },
      "source": [
        "We decided to code a function that would remove specified values from a list. We will see this come into play later. "
      ]
    },
    {
      "cell_type": "code",
      "metadata": {
        "id": "E9THpeIoLEH9"
      },
      "source": [
        "def remove_values_from_list(the_list, val):\n",
        "   return [value for value in the_list if value != val]"
      ],
      "execution_count": null,
      "outputs": []
    },
    {
      "cell_type": "code",
      "metadata": {
        "colab": {
          "base_uri": "https://localhost:8080/"
        },
        "id": "4MWrsufaLE2u",
        "outputId": "d66374f1-3861-4ef3-9d3b-b95424356143"
      },
      "source": [
        "list1 = [1,2,2,2,3,4,5]\n",
        "remove_values_from_list(list1, 2)"
      ],
      "execution_count": null,
      "outputs": [
        {
          "output_type": "execute_result",
          "data": {
            "text/plain": [
              "[1, 3, 4, 5]"
            ]
          },
          "metadata": {
            "tags": []
          },
          "execution_count": 3
        }
      ]
    },
    {
      "cell_type": "markdown",
      "metadata": {
        "id": "FCAWSDP0GUEW"
      },
      "source": [
        "This function cumulativeSum(lst) returns our prefix sums that we will also utilize in the procedure for Moessner's theorem. "
      ]
    },
    {
      "cell_type": "code",
      "metadata": {
        "id": "XvB_UHxPW-Bn"
      },
      "source": [
        "def cumulativeSum(lst): \n",
        "  return list(accumulate(lst))"
      ],
      "execution_count": null,
      "outputs": []
    },
    {
      "cell_type": "markdown",
      "metadata": {
        "id": "0p6NzvbrXvs-"
      },
      "source": [
        "## Original Moessner's Theorem "
      ]
    },
    {
      "cell_type": "markdown",
      "metadata": {
        "id": "XiJnJnBvUVj1"
      },
      "source": [
        "When implementing this theorum we should note that the values either being deleted, skipped or crossed out as mentioned in the earlier part of this project are multiples of n at first, then multiples of n-1, multiples of n-2 etc... until the operation is no longer feasible. To do this let us first create a numsDeleted function that creates a list of numbers that are multiples of any value n we provide it. "
      ]
    },
    {
      "cell_type": "code",
      "metadata": {
        "id": "JS9OalV1c3dP"
      },
      "source": [
        "def numsDeleted(numSteps, n):\n",
        "  nums = [i*n for i in range(1,numSteps+1)]\n",
        "  return nums"
      ],
      "execution_count": null,
      "outputs": []
    },
    {
      "cell_type": "markdown",
      "metadata": {
        "id": "o9dbDG6SUw5r"
      },
      "source": [
        "We begin by creating a function that will carry out our modifications to our starting sequence. A list of numbers with a specified value of n, excluding all multiples of n. Please note that we use numsDeleted in this function "
      ]
    },
    {
      "cell_type": "code",
      "metadata": {
        "id": "MA9NHKumVjwI"
      },
      "source": [
        "def primaryList(numSteps, n):\n",
        "  mainList = list(range(1,numSteps+1))\n",
        "  nums = numsDeleted(numSteps, n)\n",
        "  #print(nums)\n",
        "  for i in range(numSteps):\n",
        "    for j in range(numSteps):\n",
        "      if mainList[i]==nums[j]:\n",
        "        mainList[i] = 0\n",
        "  mainList = remove_values_from_list(mainList, 0)\n",
        "  return mainList"
      ],
      "execution_count": null,
      "outputs": []
    },
    {
      "cell_type": "code",
      "metadata": {
        "colab": {
          "base_uri": "https://localhost:8080/"
        },
        "id": "2DFZrCNzVIcR",
        "outputId": "74a3b182-4abc-4827-99eb-0d3ac020fe3d"
      },
      "source": [
        "examplelst = primaryList(25, 4)\n",
        "examplelst"
      ],
      "execution_count": null,
      "outputs": [
        {
          "output_type": "execute_result",
          "data": {
            "text/plain": [
              "[1, 2, 3, 5, 6, 7, 9, 10, 11, 13, 14, 15, 17, 18, 19, 21, 22, 23, 25]"
            ]
          },
          "metadata": {
            "tags": []
          },
          "execution_count": 7
        }
      ]
    },
    {
      "cell_type": "markdown",
      "metadata": {
        "id": "6CeN1c1XVaem"
      },
      "source": [
        "As we can see from the above code chunk, we have managed to create a list of numbers and successfully excluded multiples of n which in this case was 4. "
      ]
    },
    {
      "cell_type": "markdown",
      "metadata": {
        "id": "kSK8B728VHbW"
      },
      "source": [
        "The next function will take in the original list of numbers from the primaryList function, find a cumilative sum for each values, cross out all multiples of n-1 and return a list of values. We decided to call this function normalMoessner. "
      ]
    },
    {
      "cell_type": "code",
      "metadata": {
        "id": "z7g6LuH_CPiF"
      },
      "source": [
        "def normalMoessner(lst, n):\n",
        "  secondList = cumulativeSum(lst)\n",
        "  if n > 2:\n",
        "    for k in range(1, len(secondList)+1):\n",
        "      if k%(n-1)==0:\n",
        "        secondList[k-1]=0\n",
        "    secondList = remove_values_from_list(secondList, 0)\n",
        "  return secondList"
      ],
      "execution_count": null,
      "outputs": []
    },
    {
      "cell_type": "code",
      "metadata": {
        "colab": {
          "base_uri": "https://localhost:8080/"
        },
        "id": "6uokxqfyXJiO",
        "outputId": "bfa40252-1c19-4e01-bb83-f567b5d2746c"
      },
      "source": [
        "examplelst = primaryList(4, 4)\n",
        "examplelst\n",
        "examplelst2 = normalMoessner(examplelst, 4)\n",
        "print(examplelst2)\n",
        "examplelst3 = normalMoessner(examplelst2, 3)\n",
        "print(examplelst3)\n",
        "examplelst4 = normalMoessner(examplelst3, 2)\n",
        "print(examplelst4)"
      ],
      "execution_count": null,
      "outputs": [
        {
          "output_type": "stream",
          "text": [
            "[1, 3]\n",
            "[1]\n",
            "[1]\n"
          ],
          "name": "stdout"
        }
      ]
    },
    {
      "cell_type": "markdown",
      "metadata": {
        "id": "259e_z68XJKj"
      },
      "source": [
        "Looking at the above code chunk we can see that when running the normalMoessner function with decreasing values of n(n-1, n-2 ...) we reach closer and closer to the final sequence until are left with 1^n, 2^n, 3^n. This is what is shown in the list examplelst4. Instead of running the normalMoessner function repeatedly we thought it is important to implement a function that does those runs for us. That is what is implemented in the multipleRuns function. "
      ]
    },
    {
      "cell_type": "code",
      "metadata": {
        "id": "qlnjPLvrDBpi"
      },
      "source": [
        "def multipleRuns(numSteps, n):\n",
        "  newlst = primaryList(numSteps, n)\n",
        "  i = n\n",
        "  while i>=2:\n",
        "    newlst = normalMoessner(newlst, i)\n",
        "    i -= 1\n",
        "  return newlst"
      ],
      "execution_count": null,
      "outputs": []
    },
    {
      "cell_type": "code",
      "metadata": {
        "colab": {
          "base_uri": "https://localhost:8080/"
        },
        "id": "KIICF_DabXbz",
        "outputId": "87a1d24f-d5bf-4d53-9053-ee37012f4c87"
      },
      "source": [
        "print(multipleRuns(1000,13))\n",
        "compare = [n**13 for n in range(1, 7)]\n",
        "print(compare)"
      ],
      "execution_count": null,
      "outputs": [
        {
          "output_type": "stream",
          "text": [
            "[1, 8192, 1594323, 67108864, 1220703125, 13060694016, 96889010407, 549755813888, 2541865828329, 10000000000000, 34522712143931, 106993205379072, 302875106592253, 793714773254144, 1946195068359375, 4503599627370496, 9904578032905937, 20822964865671168, 42052983462257059, 81920000000000000, 154472377739119461, 282810057883082752, 504036361936467383, 876488338465357824, 1490116119384765625, 2481152873203736576, 4052555153018976267, 6502111422497947648, 10260628712958602189, 15943230000000000000, 24417546297445042591, 36893488147419103232, 55040353993448503713, 81138303245565435904, 118272717781982421875, 170581728179578208256, 243569224216081305397, 344498040522809827328, 482880748567480579719, 671088640000000000000, 925103102315013629321, 1265437718438866624512, 1718264124282290785243, 2316779994178213904384, 3102863559971923828125, 4129065876983540801536, 5460999706120583177327, 7180192468708211294208, 9387480337647754305649, 12207031250000000000000, 15791096563156692195651, 20325604337285010030592, 26036721925606486195973, 33198531813531453579264, 42141982597572021484375, 53265296773103187132416, 67046038752496061076057, 84055070416556869132288, 104972647676132430295979, 130606940160000000000000, 161915287432152755657581, 200028539268669788905472, 246278864694166156419903, 302231454903657293676544, 369720589101871337890625, 450890579914330142416896, 548242166610401428685587, 664684980187672050925568, 803596764671634487466709, 968890104070000000000000, 1165087474585497590531111, 1397405517247104682033152, 1671849507393788885941033, 1995319084778138053812224, 2375726401805877685546875, 2822127947962858105470976, 3344871416191195940889917]\n",
            "[1, 8192, 1594323, 67108864, 1220703125, 13060694016]\n"
          ],
          "name": "stdout"
        }
      ]
    },
    {
      "cell_type": "markdown",
      "metadata": {
        "id": "r0nS_jMi1Pqf"
      },
      "source": [
        "In the above code chunk we are able to see that he mutlipleRuns function for the value of 13 as n and 1000 numSteps seems to have  the same outcome as (n)^13, (n+1)^13 ... In the function comparewithGen we just want to have a return of true or false values if the above lists are the same. "
      ]
    },
    {
      "cell_type": "code",
      "metadata": {
        "id": "lAqSYYk2WOSz"
      },
      "source": [
        "def comparewithGen(numSteps, n):\n",
        "  vals = multipleRuns(numSteps,n)\n",
        "  compare = [x**n for x in range(1, numSteps)]\n",
        "  for i in range(len(compare)):\n",
        "    if vals[i]==compare[i]:\n",
        "      return True\n",
        "  return False"
      ],
      "execution_count": null,
      "outputs": []
    },
    {
      "cell_type": "code",
      "metadata": {
        "id": "b5I-i1KLbhh1",
        "colab": {
          "base_uri": "https://localhost:8080/"
        },
        "outputId": "076d5f92-a2ef-4dc1-ed93-b980325cbb00"
      },
      "source": [
        "iterate = [comparewithGen(1000, n) for n in range(4,200)]\n",
        "print(iterate)"
      ],
      "execution_count": null,
      "outputs": [
        {
          "output_type": "stream",
          "text": [
            "[True, True, True, True, True, True, True, True, True, True, True, True, True, True, True, True, True, True, True, True, True, True, True, True, True, True, True, True, True, True, True, True, True, True, True, True, True, True, True, True, True, True, True, True, True, True, True, True, True, True, True, True, True, True, True, True, True, True, True, True, True, True, True, True, True, True, True, True, True, True, True, True, True, True, True, True, True, True, True, True, True, True, True, True, True, True, True, True, True, True, True, True, True, True, True, True, True, True, True, True, True, True, True, True, True, True, True, True, True, True, True, True, True, True, True, True, True, True, True, True, True, True, True, True, True, True, True, True, True, True, True, True, True, True, True, True, True, True, True, True, True, True, True, True, True, True, True, True, True, True, True, True, True, True, True, True, True, True, True, True, True, True, True, True, True, True, True, True, True, True, True, True, True, True, True, True, True, True, True, True, True, True, True, True, True, True, True, True, True, True, True, True, True, True, True, True]\n"
          ],
          "name": "stdout"
        }
      ]
    },
    {
      "cell_type": "markdown",
      "metadata": {
        "id": "LSR_R0--Z7kO"
      },
      "source": [
        "From the above code chunk we can see that there are no false values present when comparing the results of the normal Moessner theorum function along side the compare list we created in comparewithGen function. This leads us to believe that we have successfully(through computation) proved that moessner's theorum is TRUE. "
      ]
    },
    {
      "cell_type": "markdown",
      "metadata": {
        "id": "VY-haudMXePD"
      },
      "source": [
        "## Increasing the constant n by 1\n",
        "\n",
        "In the construction of Moessner’s theorem, the initial step size n is constant. What happens if we increase it in each step? Let us repeat the construction starting with a step size of one and increasing the step size by one each time."
      ]
    },
    {
      "cell_type": "markdown",
      "metadata": {
        "id": "LC-kirl8XYbN"
      },
      "source": [
        "We begin by creating a function that will carry out our modifications to our starting sequence. By creating a step variable that increases by 1 each time thorugh the while loop, we are increasing the index each step. We also increase i by each new step value and set the list value at this index to zero. Once this is completed we remove all zeros like we did above. This will return our first modified sequence. "
      ]
    },
    {
      "cell_type": "code",
      "metadata": {
        "id": "a8hTxurLjjZl"
      },
      "source": [
        "def InclMoessner1(numSteps): \n",
        "  incList = list(range(1,numSteps+1))\n",
        "  step = 2 \n",
        "  i = 2 \n",
        "  while i < len(incList): \n",
        "    incList[i] = 0 \n",
        "    step += 1 \n",
        "    i+= step \n",
        "\n",
        "  incList2 = remove_values_from_list(incList, 0)\n",
        "  #print(step)\n",
        "  return incList2"
      ],
      "execution_count": null,
      "outputs": []
    },
    {
      "cell_type": "code",
      "metadata": {
        "colab": {
          "base_uri": "https://localhost:8080/"
        },
        "id": "la42_blvmsmQ",
        "outputId": "675bdaae-22f1-4d3f-d453-d37e363e6255"
      },
      "source": [
        "InclMoessner1(21)"
      ],
      "execution_count": null,
      "outputs": [
        {
          "output_type": "execute_result",
          "data": {
            "text/plain": [
              "[1, 2, 4, 5, 7, 8, 9, 11, 12, 13, 14, 16, 17, 18, 19, 20]"
            ]
          },
          "metadata": {
            "tags": []
          },
          "execution_count": 15
        }
      ]
    },
    {
      "cell_type": "markdown",
      "metadata": {
        "id": "2lMg1rLSX-x_"
      },
      "source": [
        "Next, we call our function above to store this modified sequence and we begin our next step in the procedure. This is relatively similar, but we must calculate the prefix sums before we set any values to zero and remove them. Once we have calculated the prefix sums, the process is the same as above. "
      ]
    },
    {
      "cell_type": "code",
      "metadata": {
        "id": "81hb-elwmz1b"
      },
      "source": [
        "def InclMoessner2(numSteps): \n",
        "  incList2 = InclMoessner1(numSteps)\n",
        "  #print(incList2)\n",
        "  incList2.pop(0)\n",
        "  incList3 = cumulativeSum(incList2)\n",
        "  #print(incList3)\n",
        "  step = 2 \n",
        "  i = 2 \n",
        "  while i < len(incList3): \n",
        "    incList3[i] = 0 \n",
        "    step += 1 \n",
        "    i+= step \n",
        "    \n",
        "  incList3 = remove_values_from_list(incList3, 0)\n",
        "  \n",
        "  #print(step)\n",
        "  return incList3"
      ],
      "execution_count": null,
      "outputs": []
    },
    {
      "cell_type": "code",
      "metadata": {
        "colab": {
          "base_uri": "https://localhost:8080/"
        },
        "id": "Vx3n1bTMnoVx",
        "outputId": "9458b94d-f1d4-4d8d-f1a8-c2416a3c9d75"
      },
      "source": [
        "InclMoessner2(21)"
      ],
      "execution_count": null,
      "outputs": [
        {
          "output_type": "execute_result",
          "data": {
            "text/plain": [
              "[2, 6, 18, 26, 46, 58, 71, 101, 118, 136, 155]"
            ]
          },
          "metadata": {
            "tags": []
          },
          "execution_count": 17
        }
      ]
    },
    {
      "cell_type": "markdown",
      "metadata": {
        "id": "fXGLksHlYTJ6"
      },
      "source": [
        "We continue this process and modify the sequence that we calculated with InclMoessner2 by calcuating the prefixes and then removing every n term (where n is increasing by 1 each time). "
      ]
    },
    {
      "cell_type": "code",
      "metadata": {
        "id": "g3hfyNm-EZ89"
      },
      "source": [
        "def InclMoessner3(numSteps): \n",
        "  incList3 = InclMoessner2(numSteps)\n",
        "  #print(incList2)\n",
        "  incList3.pop(0)\n",
        "  incList4 = cumulativeSum(incList3)\n",
        "  #print(incList3)\n",
        "  step = 2 \n",
        "  i = 2 \n",
        "  while i < len(incList4): \n",
        "    incList4[i] = 0 \n",
        "    step += 1 \n",
        "    i+= step \n",
        "\n",
        "  incList4 = remove_values_from_list(incList4, 0)\n",
        "  #print(step)\n",
        "  return incList4"
      ],
      "execution_count": null,
      "outputs": []
    },
    {
      "cell_type": "code",
      "metadata": {
        "colab": {
          "base_uri": "https://localhost:8080/"
        },
        "id": "TM1MB4GDIbiH",
        "outputId": "da861ef7-4abd-4bcc-bcd3-03eabb99672b"
      },
      "source": [
        "InclMoessner3(21)"
      ],
      "execution_count": null,
      "outputs": [
        {
          "output_type": "execute_result",
          "data": {
            "text/plain": [
              "[6, 24, 96, 154, 326, 444, 580]"
            ]
          },
          "metadata": {
            "tags": []
          },
          "execution_count": 19
        }
      ]
    },
    {
      "cell_type": "markdown",
      "metadata": {
        "id": "yc9XmFKWYdny"
      },
      "source": [
        "Once again, we do the same thing this time with the list returned by InclMoessner3 function above. "
      ]
    },
    {
      "cell_type": "code",
      "metadata": {
        "id": "y4QRKSsiIgIp"
      },
      "source": [
        "def InclMoessner4(numSteps): \n",
        "  incList4 = InclMoessner3(numSteps)\n",
        "  #print(incList2)\n",
        "  incList4.pop(0)\n",
        "  incList5 = cumulativeSum(incList4)\n",
        "  #print(incList3)\n",
        "  step = 2 \n",
        "  i = 2 \n",
        "  while i < len(incList5): \n",
        "    incList5[i] = 0 \n",
        "    step += 1 \n",
        "    i+= step \n",
        "\n",
        "  incList5 = remove_values_from_list(incList5, 0)\n",
        "  #print(step)\n",
        "  return incList5"
      ],
      "execution_count": null,
      "outputs": []
    },
    {
      "cell_type": "code",
      "metadata": {
        "colab": {
          "base_uri": "https://localhost:8080/"
        },
        "id": "LhUYOV1BIvtx",
        "outputId": "8a6710f4-8553-46b9-87ca-60627c8020fa"
      },
      "source": [
        "InclMoessner4(21)"
      ],
      "execution_count": null,
      "outputs": [
        {
          "output_type": "execute_result",
          "data": {
            "text/plain": [
              "[24, 120, 600, 1044]"
            ]
          },
          "metadata": {
            "tags": []
          },
          "execution_count": 21
        }
      ]
    },
    {
      "cell_type": "markdown",
      "metadata": {
        "id": "vKOcuJEVYpXc"
      },
      "source": [
        "Lastly we do the same thing, but this time modifying our InclMoessner4 returned sequence. This will produce the final sequence, except for a few key terms which are the first terms of all of the previous sequences. "
      ]
    },
    {
      "cell_type": "code",
      "metadata": {
        "id": "_zXg4SxyIxbH"
      },
      "source": [
        "def InclMoessner5(numSteps): \n",
        "  incList5 = InclMoessner4(numSteps)\n",
        "  #print(incList2)\n",
        "  incList5.pop(0)\n",
        "  incList6 = cumulativeSum(incList5)\n",
        "  #print(incList3)\n",
        "  step = 2 \n",
        "  i = 2 \n",
        "  while i < len(incList6): \n",
        "    incList6[i] = 0 \n",
        "    step += 1 \n",
        "    i+= step \n",
        "\n",
        "  incList6 = remove_values_from_list(incList6, 0)\n",
        "  #print(step)\n",
        "  return incList6"
      ],
      "execution_count": null,
      "outputs": []
    },
    {
      "cell_type": "code",
      "metadata": {
        "colab": {
          "base_uri": "https://localhost:8080/"
        },
        "id": "VmmtsMiVJAB-",
        "outputId": "92a128d6-609b-4c96-fb02-4a452cc1baf7"
      },
      "source": [
        "InclMoessner5(50)"
      ],
      "execution_count": null,
      "outputs": [
        {
          "output_type": "execute_result",
          "data": {
            "text/plain": [
              "[120,\n",
              " 720,\n",
              " 4320,\n",
              " 8028,\n",
              " 22212,\n",
              " 33984,\n",
              " 48860,\n",
              " 94852,\n",
              " 128160,\n",
              " 167868,\n",
              " 214676,\n",
              " 342964,\n",
              " 427932,\n",
              " 525240,\n",
              " 635948,\n",
              " 761166]"
            ]
          },
          "metadata": {
            "tags": []
          },
          "execution_count": 23
        }
      ]
    },
    {
      "cell_type": "markdown",
      "metadata": {
        "id": "fyoP3ERsY1JU"
      },
      "source": [
        "In order to account for the first terms of all of the produced sequences from each function, we append these first terms to our final InclMoessner5 list. This is our final function that we will call when testing this procedure. "
      ]
    },
    {
      "cell_type": "code",
      "metadata": {
        "id": "4952jNoJJByi"
      },
      "source": [
        "def InclMoessner(numSteps): \n",
        "  lst1 = InclMoessner1(numSteps)\n",
        "  lst2 = InclMoessner2(numSteps)\n",
        "  lst3 = InclMoessner3(numSteps)\n",
        "  lst4 = InclMoessner4(numSteps)\n",
        "\n",
        "  terms1 = [lst1[0],lst2[0],lst3[0],lst4[0]]\n",
        "  #print(terms1)\n",
        "\n",
        "  terms2 = InclMoessner5(numSteps)\n",
        "  result = [*terms1, *terms2] \n",
        "\n",
        "  return result "
      ],
      "execution_count": null,
      "outputs": []
    },
    {
      "cell_type": "code",
      "metadata": {
        "colab": {
          "base_uri": "https://localhost:8080/"
        },
        "id": "kYu7qlYVc86X",
        "outputId": "95e17680-7a52-4c16-eeb2-bdb0a6c7c8da"
      },
      "source": [
        "InclMoessner(50)"
      ],
      "execution_count": null,
      "outputs": [
        {
          "output_type": "execute_result",
          "data": {
            "text/plain": [
              "[1,\n",
              " 2,\n",
              " 6,\n",
              " 24,\n",
              " 120,\n",
              " 720,\n",
              " 4320,\n",
              " 8028,\n",
              " 22212,\n",
              " 33984,\n",
              " 48860,\n",
              " 94852,\n",
              " 128160,\n",
              " 167868,\n",
              " 214676,\n",
              " 342964,\n",
              " 427932,\n",
              " 525240,\n",
              " 635948,\n",
              " 761166]"
            ]
          },
          "metadata": {
            "tags": []
          },
          "execution_count": 25
        }
      ]
    },
    {
      "cell_type": "markdown",
      "metadata": {
        "id": "RAp_BS8wZO20"
      },
      "source": [
        "Let's compare this sequence with that of n!. We utilize the same code as above when we compared with 1^n, 2^n, 3^n..., but this time we modify our compare variables. We use a list comprehension to produce a list of n! values for n in range numSteps and compare this with InclMoessner(numSteps). If these values are consistent across indexes, the function will return True. "
      ]
    },
    {
      "cell_type": "code",
      "metadata": {
        "id": "G5a9_-UqdgNH"
      },
      "source": [
        "def comparewithFac(numSteps):\n",
        "  vals = InclMoessner(numSteps)\n",
        "  compare = [math.factorial(n) for n in range(1, numSteps)]\n",
        "  for i in range(len(compare)):\n",
        "    if vals[i]==compare[i]:\n",
        "      return True\n",
        "  return False"
      ],
      "execution_count": null,
      "outputs": []
    },
    {
      "cell_type": "code",
      "metadata": {
        "colab": {
          "base_uri": "https://localhost:8080/"
        },
        "id": "coxPdp5Yd_Kj",
        "outputId": "232b198e-65bd-49d6-f246-af71df666999"
      },
      "source": [
        "comparewithFac(21)"
      ],
      "execution_count": null,
      "outputs": [
        {
          "output_type": "execute_result",
          "data": {
            "text/plain": [
              "True"
            ]
          },
          "metadata": {
            "tags": []
          },
          "execution_count": 27
        }
      ]
    },
    {
      "cell_type": "code",
      "metadata": {
        "colab": {
          "base_uri": "https://localhost:8080/"
        },
        "id": "B7D4fdO_eAyy",
        "outputId": "67e91871-772b-46f5-d939-09d52c2a70e6"
      },
      "source": [
        "iterate2 = [comparewithFac(1000) for n in range(4,100)]\n",
        "print(iterate2)"
      ],
      "execution_count": null,
      "outputs": [
        {
          "output_type": "stream",
          "text": [
            "[True, True, True, True, True, True, True, True, True, True, True, True, True, True, True, True, True, True, True, True, True, True, True, True, True, True, True, True, True, True, True, True, True, True, True, True, True, True, True, True, True, True, True, True, True, True, True, True, True, True, True, True, True, True, True, True, True, True, True, True, True, True, True, True, True, True, True, True, True, True, True, True, True, True, True, True, True, True, True, True, True, True, True, True, True, True, True, True, True, True, True, True, True, True, True, True]\n"
          ],
          "name": "stdout"
        }
      ]
    },
    {
      "cell_type": "markdown",
      "metadata": {
        "id": "0MrqNJhlfZ-9"
      },
      "source": [
        "## What happens when we expand upon Koza and Silva's paper and develop our own procedure? \n",
        "\n",
        "Let's see what happens when we start with n=1 and increase it by 2 each time? \n",
        "\n",
        "### n = 1 and increase by 2 each step "
      ]
    },
    {
      "cell_type": "markdown",
      "metadata": {
        "id": "6tRydzCMbBAb"
      },
      "source": [
        "In order to implement this new procedure we simply modify our previous code that increases n each step. Instead of a step size of 1 we change the step size to be 2. We implement the same procedure as above. After each new sequence is produced, we enter it into the Encyclopedia of Integer sequences in order to understand if we have discovered a relevant pattern. "
      ]
    },
    {
      "cell_type": "code",
      "metadata": {
        "id": "75f-oPI-fu5A"
      },
      "source": [
        "def Inclby2Moessner1(numSteps): \n",
        "  incList = list(range(2,numSteps+1))\n",
        "  step = 2 \n",
        "  i = 1\n",
        "  while i < len(incList): \n",
        "    incList[i] = 0 \n",
        "    step += 2 \n",
        "    i+= step \n",
        "\n",
        "  incList2 = remove_values_from_list(incList, 0)\n",
        "  print(step)\n",
        "  return incList2"
      ],
      "execution_count": null,
      "outputs": []
    },
    {
      "cell_type": "code",
      "metadata": {
        "colab": {
          "base_uri": "https://localhost:8080/"
        },
        "id": "MYLp2ywhg2i-",
        "outputId": "3af2e621-2991-4b42-b261-d386f5fbb3ca"
      },
      "source": [
        "Inclby2Moessner1(21)"
      ],
      "execution_count": null,
      "outputs": [
        {
          "output_type": "stream",
          "text": [
            "10\n"
          ],
          "name": "stdout"
        },
        {
          "output_type": "execute_result",
          "data": {
            "text/plain": [
              "[2, 4, 5, 6, 8, 9, 10, 11, 12, 14, 15, 16, 17, 18, 19, 20]"
            ]
          },
          "metadata": {
            "tags": []
          },
          "execution_count": 59
        }
      ]
    },
    {
      "cell_type": "code",
      "metadata": {
        "id": "HAI2bgKWg656"
      },
      "source": [
        "def Inclby2Moessner2(numSteps): \n",
        "  incList2 = Inclby2Moessner1(numSteps)\n",
        "  #print(incList2)\n",
        "  incList2.pop(0)\n",
        "  incList3 = cumulativeSum(incList2)\n",
        "  #print(incList3)\n",
        "  step = 2 \n",
        "  i = 1\n",
        "  while i < len(incList3): \n",
        "    incList3[i] = 0 \n",
        "    step += 2 \n",
        "    i+= step \n",
        "    \n",
        "  incList3 = remove_values_from_list(incList3, 0)\n",
        "  \n",
        "  #print(step)\n",
        "  return incList3"
      ],
      "execution_count": null,
      "outputs": []
    },
    {
      "cell_type": "code",
      "metadata": {
        "colab": {
          "base_uri": "https://localhost:8080/"
        },
        "id": "TvrbNohrhrs5",
        "outputId": "98757185-2273-41c0-dd9d-dd02e4857f4c"
      },
      "source": [
        "print(Inclby2Moessner1(21))\n",
        "Inclby2Moessner2(21)"
      ],
      "execution_count": null,
      "outputs": [
        {
          "output_type": "stream",
          "text": [
            "10\n",
            "[2, 4, 5, 6, 8, 9, 10, 11, 12, 14, 15, 16, 17, 18, 19, 20]\n",
            "10\n"
          ],
          "name": "stdout"
        },
        {
          "output_type": "execute_result",
          "data": {
            "text/plain": [
              "[4, 15, 23, 32, 53, 65, 79, 94, 110, 145, 164, 184]"
            ]
          },
          "metadata": {
            "tags": []
          },
          "execution_count": 61
        }
      ]
    },
    {
      "cell_type": "code",
      "metadata": {
        "id": "uSF9l4Gfhtia"
      },
      "source": [
        "def Inclby2Moessner3(numSteps): \n",
        "  incList3 = Inclby2Moessner2(numSteps)\n",
        "  #print(incList2)\n",
        "  incList3.pop(0)\n",
        "  incList4 = cumulativeSum(incList3)\n",
        "  #print(incList3)\n",
        "  step = 2 \n",
        "  i = 1\n",
        "  while i < len(incList4): \n",
        "    incList4[i] = 0 \n",
        "    step += 2 \n",
        "    i+= step \n",
        "\n",
        "  incList4 = remove_values_from_list(incList4, 0)\n",
        "  #print(step)\n",
        "  return incList4"
      ],
      "execution_count": null,
      "outputs": []
    },
    {
      "cell_type": "code",
      "metadata": {
        "colab": {
          "base_uri": "https://localhost:8080/"
        },
        "id": "RU19ZKwAjdWu",
        "outputId": "4d01fce5-21a8-426e-b87d-3409ee305eb1"
      },
      "source": [
        "Inclby2Moessner3(21)"
      ],
      "execution_count": null,
      "outputs": [
        {
          "output_type": "stream",
          "text": [
            "12\n"
          ],
          "name": "stdout"
        },
        {
          "output_type": "execute_result",
          "data": {
            "text/plain": [
              "[15, 67, 107, 158, 234, 324, 550, 688, 845, 1022, 1220]"
            ]
          },
          "metadata": {
            "tags": []
          },
          "execution_count": 51
        }
      ]
    },
    {
      "cell_type": "code",
      "metadata": {
        "id": "IoJuFvmUjgQI"
      },
      "source": [
        "def Inclby2Moessner4(numSteps): \n",
        "  incList4 = Inclby2Moessner3(numSteps)\n",
        "  #print(incList2)\n",
        "  incList4.pop(0)\n",
        "  incList5 = cumulativeSum(incList4)\n",
        "  #print(incList3)\n",
        "  step = 2 \n",
        "  i = 1\n",
        "  while i < len(incList5): \n",
        "    incList5[i] = 0 \n",
        "    step += 2\n",
        "    i+= step \n",
        "\n",
        "  incList5 = remove_values_from_list(incList5, 0)\n",
        "  #print(step)\n",
        "  return incList5"
      ],
      "execution_count": null,
      "outputs": []
    },
    {
      "cell_type": "code",
      "metadata": {
        "colab": {
          "base_uri": "https://localhost:8080/"
        },
        "id": "7ZEeQzihkSv_",
        "outputId": "42597f46-8030-42a8-cfdd-5512d53e730b"
      },
      "source": [
        "Inclby2Moessner4(21)"
      ],
      "execution_count": null,
      "outputs": [
        {
          "output_type": "stream",
          "text": [
            "12\n"
          ],
          "name": "stdout"
        },
        {
          "output_type": "execute_result",
          "data": {
            "text/plain": [
              "[67, 332, 566, 890, 1440, 2128, 3995, 5215]"
            ]
          },
          "metadata": {
            "tags": []
          },
          "execution_count": 53
        }
      ]
    },
    {
      "cell_type": "code",
      "metadata": {
        "id": "R4I9rZMKkVZv"
      },
      "source": [
        "def Inclby2Moessner5(numSteps): \n",
        "  incList5 = Inclby2Moessner4(numSteps)\n",
        "  #print(incList2)\n",
        "  incList5.pop(0)\n",
        "  incList6 = cumulativeSum(incList5)\n",
        "  #print(incList3)\n",
        "  step = 2 \n",
        "  i = 1\n",
        "  while i < len(incList6): \n",
        "    incList6[i] = 0 \n",
        "    step += 2 \n",
        "    i+= step \n",
        "\n",
        "  incList6 = remove_values_from_list(incList6, 0)\n",
        "  #print(step)\n",
        "  return incList6"
      ],
      "execution_count": null,
      "outputs": []
    },
    {
      "cell_type": "code",
      "metadata": {
        "colab": {
          "base_uri": "https://localhost:8080/"
        },
        "id": "GiW4gNzDkxeS",
        "outputId": "1323948b-084b-4c53-ee1c-e402c8ab7669"
      },
      "source": [
        "Inclby2Moessner5(21)"
      ],
      "execution_count": null,
      "outputs": [
        {
          "output_type": "stream",
          "text": [
            "12\n"
          ],
          "name": "stdout"
        },
        {
          "output_type": "execute_result",
          "data": {
            "text/plain": [
              "[332, 1788, 3228, 5356, 9351, 14566]"
            ]
          },
          "metadata": {
            "tags": []
          },
          "execution_count": 55
        }
      ]
    },
    {
      "cell_type": "code",
      "metadata": {
        "id": "3iaBqKla9JGp"
      },
      "source": [
        "def Incby2MoessnerConc(numSteps): \n",
        "  lst1 = Inclby2Moessner1(numSteps)\n",
        "  lst2 = Inclby2Moessner2(numSteps)\n",
        "  lst3 = Inclby2Moessner3(numSteps)\n",
        "  lst4 = Inclby2Moessner4(numSteps)\n",
        "\n",
        "  terms1 = [lst1[0],lst2[0],lst3[0],lst4[0]]\n",
        "  #print(terms1)\n",
        "\n",
        "  terms2 = Inclby2Moessner5(numSteps)\n",
        "  result = [*terms1, *terms2] \n",
        "\n",
        "  return result "
      ],
      "execution_count": null,
      "outputs": []
    },
    {
      "cell_type": "code",
      "metadata": {
        "colab": {
          "base_uri": "https://localhost:8080/"
        },
        "id": "1EpJ8kkC9cd-",
        "outputId": "45a88817-4565-426f-9a90-6df66d443b4e"
      },
      "source": [
        "Incby2MoessnerConc(50)"
      ],
      "execution_count": null,
      "outputs": [
        {
          "output_type": "stream",
          "text": [
            "18\n",
            "18\n",
            "18\n",
            "18\n",
            "18\n"
          ],
          "name": "stdout"
        },
        {
          "output_type": "execute_result",
          "data": {
            "text/plain": [
              "[2,\n",
              " 4,\n",
              " 15,\n",
              " 67,\n",
              " 332,\n",
              " 1788,\n",
              " 3228,\n",
              " 5356,\n",
              " 9351,\n",
              " 14566,\n",
              " 29652,\n",
              " 40082,\n",
              " 53197,\n",
              " 69370,\n",
              " 89003,\n",
              " 116887,\n",
              " 149627,\n",
              " 187755,\n",
              " 282624,\n",
              " 340683,\n",
              " 406768,\n",
              " 482434,\n",
              " 568521,\n",
              " 665912,\n",
              " 775534,\n",
              " 912584,\n",
              " 1064926,\n",
              " 1233677,\n",
              " 1420004]"
            ]
          },
          "metadata": {
            "tags": []
          },
          "execution_count": 57
        }
      ]
    },
    {
      "cell_type": "markdown",
      "metadata": {
        "id": "q9oxMCNPk6kV"
      },
      "source": [
        "According to the on-line Encyclopedia of Integer Sequences, none of these sequences (for n = 2 with an increasing step size of 2) have been found significant before. In this regard, it seems we have not found an important pattern. Let's try a different approach. What if we keep n constant throughout the entire procedure and set it as n = 2? "
      ]
    },
    {
      "cell_type": "markdown",
      "metadata": {
        "id": "sD17LagYZw_K"
      },
      "source": [
        "When changing our code to have an initial n value of 3 and an increase of 3 at each step size we found no significant integer sequences. The final sequence is attatched below. Feel free to modify the code to see this sequence develop. "
      ]
    },
    {
      "cell_type": "markdown",
      "metadata": {
        "id": "MLHsIZIm-MhI"
      },
      "source": [
        "[2,\n",
        " 4,\n",
        " 15,\n",
        " 67,\n",
        " 332,\n",
        " 1788,\n",
        " 3228,\n",
        " 5356,\n",
        " 9351,\n",
        " 14566,\n",
        " 29652,\n",
        " 40082,\n",
        " 53197,\n",
        " 69370,\n",
        " 89003,\n",
        " 116887,\n",
        " 149627,\n",
        " 187755,\n",
        " 282624,\n",
        " 340683,\n",
        " 406768,\n",
        " 482434,\n",
        " 568521,\n",
        " 665912,\n",
        " 775534,\n",
        " 912584,\n",
        " 1064926,\n",
        " 1233677,\n",
        " 1420004]"
      ]
    },
    {
      "cell_type": "markdown",
      "metadata": {
        "id": "tbf9v9ckYIGe"
      },
      "source": [
        "## Keeping n constant as n = 2"
      ]
    },
    {
      "cell_type": "markdown",
      "metadata": {
        "id": "E_mMz0prZ3DR"
      },
      "source": [
        "We start by modifying our previous code. By changing our numsDeleted function, we create an array of factors of 2. "
      ]
    },
    {
      "cell_type": "code",
      "metadata": {
        "id": "yYizNJc2lRnI"
      },
      "source": [
        "def numsDeleted2(numSteps):\n",
        "  nums = [i*2 for i in range(1,numSteps+1)]\n",
        "  return nums"
      ],
      "execution_count": null,
      "outputs": []
    },
    {
      "cell_type": "markdown",
      "metadata": {
        "id": "gRjPk7q2aqSE"
      },
      "source": [
        "We keep our primaryList function the same and make sure to accomodate our new numsDeleted function. This function removes all factors of 2 in our list. "
      ]
    },
    {
      "cell_type": "code",
      "metadata": {
        "id": "orrBiv3Dlacj"
      },
      "source": [
        "def primaryList2(numSteps):\n",
        "  mainList = list(range(1,numSteps+1))\n",
        "  nums = numsDeleted2(numSteps)\n",
        "  #print(nums)\n",
        "  for i in range(numSteps):\n",
        "    for j in range(numSteps):\n",
        "      if mainList[i]==nums[j]:\n",
        "        mainList[i] = 0\n",
        "  mainList = remove_values_from_list(mainList, 0)\n",
        "  return mainList"
      ],
      "execution_count": null,
      "outputs": []
    },
    {
      "cell_type": "markdown",
      "metadata": {
        "id": "c0wbXL1vdSrY"
      },
      "source": [
        "Next we calculate the prefix sums and from this list we remove any value that is divisible by 2. We then return this newly computed list. "
      ]
    },
    {
      "cell_type": "code",
      "metadata": {
        "id": "bTeuKF3Klpxq"
      },
      "source": [
        "def Moessnerby2(lst):\n",
        "  secondList = cumulativeSum(lst)\n",
        "  for k in range(1, len(secondList)+1):\n",
        "    if k % (2)==0:\n",
        "      secondList[k]=0\n",
        "  secondList = remove_values_from_list(secondList, 0)\n",
        "  return secondList"
      ],
      "execution_count": null,
      "outputs": []
    },
    {
      "cell_type": "code",
      "metadata": {
        "colab": {
          "base_uri": "https://localhost:8080/"
        },
        "id": "kPMDXPrumODt",
        "outputId": "9a4fc2f3-b292-4d22-c518-acaf3009b3c9"
      },
      "source": [
        "testlst = primaryList2(50)\n",
        "print(testlst)"
      ],
      "execution_count": null,
      "outputs": [
        {
          "output_type": "stream",
          "text": [
            "[1, 3, 5, 7, 9, 11, 13, 15, 17, 19, 21, 23, 25, 27, 29, 31, 33, 35, 37, 39, 41, 43, 45, 47, 49]\n"
          ],
          "name": "stdout"
        }
      ]
    },
    {
      "cell_type": "code",
      "metadata": {
        "colab": {
          "base_uri": "https://localhost:8080/"
        },
        "id": "tInQ5o5Emb3w",
        "outputId": "ecd269ae-e5f1-49c0-f02a-77066ebd9b94"
      },
      "source": [
        "testlst2by2 = Moessnerby2(testlst)\n",
        "print(testlst2by2)"
      ],
      "execution_count": null,
      "outputs": [
        {
          "output_type": "stream",
          "text": [
            "[1, 4, 16, 36, 64, 100, 144, 196, 256, 324, 400, 484, 576]\n"
          ],
          "name": "stdout"
        }
      ]
    },
    {
      "cell_type": "markdown",
      "metadata": {
        "id": "NA08qsEqd4ne"
      },
      "source": [
        "Our new modified list appears to exhibit a newfound pattern. This list includes the squared value of the even number sequence (2,4,6,8,...) and 1. When we search this sequence on the Encyclopedia of Integer Sequences  we find a recorded entry (#A055808). "
      ]
    },
    {
      "cell_type": "markdown",
      "metadata": {
        "id": "I4IeJ-c8aj53"
      },
      "source": [
        "# **Discussion** \n",
        "\n",
        "## Conclusion and Conjectures \n",
        "In this project we successfully investigated and computationally proved Moessner's theorem. We utilized Dexter Kozen and Alexandr Silva's paper on this theorem as a basis for our code and computations. The team was able to see that with crossing out decreasing values of n(n-1, n-2 ...) for mutliple sequences we reached the final sequence of 1^n, 2^n, 3^n after each run. \n",
        "\n",
        "We then successfully investigated and computationally proved Moessner's theorum but this time we increased the constant n by 1 each time. (Refer to the third section)\n",
        "\n",
        "Part the project requirments was to come up with our own variant\n",
        "of Moessner’s construction and look for numerical patterns. We were able to implement this in two different ways. First we wanted to see what happens when we increase the constant n by 2 each time. We unfortunatley were not able to see any significant sequences for this test. The second test we tried to do is keep n constant (which in our case is 2). Our new modified list appears to exhibit a newfound pattern. This list includes the squared value of the even number sequence (2,4,6,8,...) and When we search this sequence on the Encyclopedia of Integer Sequences we find a recorded entry (#A055808). \n",
        "\n",
        "## Limitations \n",
        "One of the major limitations when working with this project is the time it takes to find a new pattern when looking at different variants of moessners construction. Are there more patterns if we cross out prime numbers and continue doing that for every sequence? Are there more patterns when n is constant at 3, or constant at 4? What would be the True/False values for when n>200?"
      ]
    }
  ]
}